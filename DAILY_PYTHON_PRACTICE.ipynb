{
 "cells": [
  {
   "cell_type": "markdown",
   "id": "8ccb3e5e",
   "metadata": {},
   "source": [
    "## Ce notebook est dédié à ma pratique quotidienne du langage Python.\n",
    "\n",
    "*Chaque soir, je code 2 à 3 petits programmes afin de renforcer ma compréhension des concepts Python, des bases jusqu’aux notions plus avancées.*"
   ]
  },
  {
   "cell_type": "code",
   "execution_count": 1,
   "id": "95babfae",
   "metadata": {},
   "outputs": [],
   "source": [
    "# Debut: 01/11/2025"
   ]
  }
 ],
 "metadata": {
  "kernelspec": {
   "display_name": "Python 3",
   "language": "python",
   "name": "python3"
  },
  "language_info": {
   "codemirror_mode": {
    "name": "ipython",
    "version": 3
   },
   "file_extension": ".py",
   "mimetype": "text/x-python",
   "name": "python",
   "nbconvert_exporter": "python",
   "pygments_lexer": "ipython3",
   "version": "3.12.0"
  }
 },
 "nbformat": 4,
 "nbformat_minor": 5
}
