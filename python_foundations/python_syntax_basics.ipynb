{
 "cells": [
  {
   "cell_type": "markdown",
   "id": "11782e2d",
   "metadata": {},
   "source": [
    "# Programme pratique - Python"
   ]
  },
  {
   "cell_type": "markdown",
   "id": "df3945bd",
   "metadata": {},
   "source": [
    "### Programme basic"
   ]
  },
  {
   "cell_type": "code",
   "execution_count": 32,
   "id": "05fab999",
   "metadata": {},
   "outputs": [
    {
     "name": "stdout",
     "output_type": "stream",
     "text": [
      "The area of the triangle is  84.00 meters sqaured\n"
     ]
    }
   ],
   "source": [
    "# Write a Python program to calculate the area of a rectangle given its length and width\n",
    "length = 14\n",
    "width = 6\n",
    "print(f\"The area of the triangle is {length*width: .2f} meters sqaured\")"
   ]
  },
  {
   "cell_type": "code",
   "execution_count": 33,
   "id": "a927ec92",
   "metadata": {},
   "outputs": [
    {
     "name": "stdout",
     "output_type": "stream",
     "text": [
      "Greetings Nicolas, learning python is like giving your life to Christ even at 18. Good luck in your jounney!\n"
     ]
    }
   ],
   "source": [
    "# Create a program that takes a user's name and age as input and prints a greeting message\n",
    "user_name = str(input(\"Enter your name : \"))\n",
    "user_age = int(input(\"Enter your age :\"))\n",
    "\n",
    "print(f\"Greetings {user_name}, learning python is like giving your life to Christ even at {user_age}. Good luck in your jounney!\")"
   ]
  },
  {
   "cell_type": "code",
   "execution_count": 34,
   "id": "5e5b0f36",
   "metadata": {},
   "outputs": [
    {
     "name": "stdout",
     "output_type": "stream",
     "text": [
      "64 is even\n"
     ]
    }
   ],
   "source": [
    "# Write a program to check if a number is even or odd\n",
    "import random\n",
    "\n",
    "num = random.randint(0, 70)\n",
    "\n",
    "print(f\"{num} is even\") if num%2 == 0 else print(f\"{num} is odd\")"
   ]
  },
  {
   "cell_type": "code",
   "execution_count": 42,
   "id": "cea71c99",
   "metadata": {},
   "outputs": [
    {
     "name": "stdout",
     "output_type": "stream",
     "text": [
      "The maximum and minimum values are 78 and -100 respectively\n",
      "The maximum and minimum values are 78 and -100 respectively\n",
      "The maximum and minimum values are -1 and -100 respectively\n"
     ]
    }
   ],
   "source": [
    "# Given a list of numbers, find the maximum and minimum values\n",
    "numbers = [-1, 55, 4, 5, 78, 63, -15, 20, -39, -100]\n",
    "\n",
    "# method 1\n",
    "print(f\"The maximum and minimum values are {max(numbers)} and {min(numbers)} respectively\")\n",
    "\n",
    "# method 2\n",
    "bigger = numbers[0]\n",
    "smaller = numbers[0]\n",
    "for num in numbers:\n",
    "    if num > bigger:\n",
    "        bigger = num\n",
    "    if num < smaller:\n",
    "        smaller = num\n",
    "print(f\"The maximum and minimum values are {bigger} and {smaller} respectively\")\n",
    "\n",
    "# method 3\n",
    "sorted_numbers = sorted(numbers)\n",
    "print(f\"The maximum and minimum values are {numbers[0]} and {numbers[-1]} respectively\")\n"
   ]
  },
  {
   "cell_type": "code",
   "execution_count": 44,
   "id": "9e3605ba",
   "metadata": {},
   "outputs": [
    {
     "name": "stdout",
     "output_type": "stream",
     "text": [
      "radar is a palindrome\n",
      "notamment isn't a palindrome\n"
     ]
    }
   ],
   "source": [
    "# Create a Python function to check if a given string is a palindrome\n",
    "def is_palindrome(word : str) -> bool:\n",
    "    return word == word[::-1]\n",
    "\n",
    "word_one = \"radar\"\n",
    "word_two = \"notamment\"\n",
    "\n",
    "print(f\"{word_one} is a palindrome\") if is_palindrome(word_one) else print(f\"{word_one} isn't a palindrome\")\n",
    "print(f\"{word_two} is a palindrome\") if is_palindrome(word_two) else print(f\"{word_two} isn't a palindrome\")"
   ]
  }
 ],
 "metadata": {
  "kernelspec": {
   "display_name": "Python 3",
   "language": "python",
   "name": "python3"
  },
  "language_info": {
   "codemirror_mode": {
    "name": "ipython",
    "version": 3
   },
   "file_extension": ".py",
   "mimetype": "text/x-python",
   "name": "python",
   "nbconvert_exporter": "python",
   "pygments_lexer": "ipython3",
   "version": "3.12.0"
  }
 },
 "nbformat": 4,
 "nbformat_minor": 5
}
