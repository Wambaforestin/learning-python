{
 "cells": [
  {
   "cell_type": "markdown",
   "id": "fec0d717",
   "metadata": {},
   "source": [
    "#  Programmation Orientée Objet , Gestion des erreurs et Gestion de fichiers"
   ]
  },
  {
   "cell_type": "markdown",
   "id": "cf2f1f21",
   "metadata": {},
   "source": [
    "## Programmation Orientée Objet\n",
    "> Programme illustrant les concepts de la POO en Python : classes, objets, héritage, encapsulation et polymorphisme.\n",
    "> Cas d'usage : Système de gestion bancaire."
   ]
  },
  {
   "cell_type": "code",
   "execution_count": null,
   "id": "d7461339",
   "metadata": {},
   "outputs": [
    {
     "name": "stdout",
     "output_type": "stream",
     "text": [
      "Compte Courant de Sammy: 5000.00€\n",
      "Compte Epargne de Sammy: 500.00€\n",
      "Après transactions et application des intérêts:\n",
      "Compte Courant de Sammy: 5350.00€\n",
      "Compte Epargne de Sammy: 494.40€\n",
      "Compte Courant de Sammy: 5350.00€\n",
      "Compte Epargne de Sammy: 494.40€\n",
      "100€ en USD ($)110.00\n",
      "Solde initial: 100€\n",
      "Nouveau solde: 200€\n"
     ]
    }
   ],
   "source": [
    "\"\"\"\n",
    "PARTIE 1 : Classes et objets : Permet de modéliser des entités réelles (ici un compte bancaire)\n",
    "\"\"\"\n",
    "class Client:\n",
    "    # Représente un client bancaire\n",
    "    def __init__(self, nom: str, email: str):\n",
    "        self.nom, self.email = nom, email\n",
    "    \n",
    "    def __str__(self) -> str:\n",
    "        return f\"Client: {self.nom} ({self.email})\"\n",
    "    \n",
    "\"\"\"\n",
    "PARTIE 2 : Attributs et méthodes\n",
    "\"\"\"\n",
    "class CompteBancaire:\n",
    "    # Représente un compte bancaire\n",
    "    taux_interet: float = 0.02 # attruibut de classe\n",
    "    \n",
    "    def __init__(self, client: Client, solde_initial: float = 0.0):\n",
    "        self.client, self.solde = client, solde_initial # attribut d'instance (client)\n",
    "    \n",
    "    def deposer(self, montant: float) -> None:\n",
    "        self.solde = self.solde + montant\n",
    "     \n",
    "    def retirer(self, montant: float) -> None:\n",
    "        if montant > self.solde:\n",
    "            raise ValueError(\"Fonds inssuffisants\")\n",
    "        self.solde = self.solde - montant\n",
    "        \n",
    "    @classmethod\n",
    "    def changer_taux_interet(cls, nouveau_taux: float) -> None:\n",
    "        cls.taux_interet = nouveau_taux\n",
    "        \n",
    "    @staticmethod\n",
    "    def convertir_euro_usd(montant: float, taux: float = 1.1) -> float:\n",
    "        return montant * taux\n",
    "    \n",
    "\"\"\"\n",
    "PARTIE 3 : Encapsulation : Protection des données via les getters et les setters\n",
    "\"\"\"\n",
    "class CompteSecure:\n",
    "    def __init__(self, solde_initial: float = 0.0):\n",
    "        self._solde = solde_initial # convention protected\n",
    "    # pythonic way with property decorator    \n",
    "    @property\n",
    "    def solde(self) -> float:\n",
    "        return self._solde\n",
    "    \n",
    "    @solde.setter\n",
    "    def solde(self, valeur: float) -> None:\n",
    "        if valeur < 0:\n",
    "            raise ValueError(\"Le solde ne peut pas etre négatif\")\n",
    "        self._solde = valeur\n",
    "        \n",
    "    # non pythonic way with explicit getter and setter\n",
    "    def get_solde(self) -> float:\n",
    "        return self._solde\n",
    "    def set_solde(self, valeur: float) -> None:\n",
    "        if valeur < 0:\n",
    "            raise ValueError(\"Le solde ne peut pas etre négatif\")\n",
    "        self._solde = valeur\n",
    "    \n",
    "\"\"\"\n",
    "PARTIE 4 : Héritage\n",
    "\"\"\"\n",
    "\n",
    "class CompteEpargne(CompteBancaire):\n",
    "    def appliquer_interet(self):\n",
    "        self.solde = self.solde + (self.solde * self.taux_interet)\n",
    "    def __str__(self):\n",
    "        return f\"Compte Epargne de {self.client.nom}: {self.solde:.2f}€\"\n",
    "    \n",
    "    \n",
    "\"\"\"\n",
    "PARTIE 5 : Polymorphisme : Meme méthode, comportement différent\n",
    "\"\"\"\n",
    "class CompteCourant(CompteBancaire):\n",
    "    def __str__(self) -> str:\n",
    "        return f\"Compte Courant de {self.client.nom}: {self.solde:.2f}€\"\n",
    "    \n",
    "\"\"\"\n",
    "PARTIE 6 : Abstraction\n",
    "\"\"\"\n",
    "from abc import ABC, abstractmethod\n",
    "\n",
    "class Transaction(ABC):\n",
    "    @abstractmethod\n",
    "    def executer(self, compte: CompteBancaire) -> None:\n",
    "        \"\"\"Execute the transaction on the given account (instance method).\"\"\"\n",
    "        pass\n",
    "\n",
    "class Depot(Transaction):\n",
    "    def __init__(self, montant: float):\n",
    "        self.montant = montant\n",
    "\n",
    "    def executer(self, compte: CompteBancaire) -> None:\n",
    "        compte.deposer(self.montant)\n",
    "\n",
    "class Retrait(Transaction):\n",
    "    def __init__(self, montant: float):\n",
    "        self.montant = montant\n",
    "\n",
    "    def executer(self, compte: CompteBancaire) -> None:\n",
    "        compte.retirer(self.montant)\n",
    "\n",
    "    \n",
    "# Démonstration en utilisant tous les concepts\n",
    "# création d'un client et comptes\n",
    "client = Client(\"Sammy\", \"sammy@example.com\")\n",
    "c_courant = CompteCourant(client, 5000)\n",
    "c_epargne = CompteEpargne(client, 500)\n",
    "\n",
    "print(c_courant)\n",
    "print(c_epargne)\n",
    "\n",
    "# Transaction avec abs\n",
    "depot = Depot(350)\n",
    "depot.executer(c_courant)\n",
    "retrait = Retrait(20)\n",
    "retrait.executer(c_epargne)\n",
    "\n",
    "# changement du taux d'intérêt\n",
    "CompteBancaire.changer_taux_interet(0.03) # en utilisant la méthode de classe\n",
    "c_epargne.appliquer_interet()\n",
    "print(\"Après transactions et application des intérêts:\")\n",
    "print(c_courant)\n",
    "print(c_epargne)\n",
    "\n",
    "# appel de __str__ pour démontrer le polymorphism\n",
    "comptes = [c_courant, c_epargne]\n",
    "for c in comptes:\n",
    "    print(c)\n",
    "    \n",
    "# utilisation de la méthode statique\n",
    "print(f\"100€ en USD ($){CompteBancaire.convertir_euro_usd(100):.2f}\")\n",
    "\n",
    "# utilisation des getters et setters avec encapsulation, @property\n",
    "# @property permet transformer une méthode en attribut, c'est à dire qu'on peut l'utiliser sans les parenthèses lorsque on l'appelle et on peut aussi lui attribuer une valeur lorsqu'on utilise le setter (lorsque le fonction prend quelque chose en argument)\n",
    "compte_secure = CompteSecure(100)\n",
    "print(f\"Solde initial: {compte_secure.solde}€\")\n",
    "compte_secure.solde = 200\n",
    "print(f\"Nouveau solde: {compte_secure.solde}€\")"
   ]
  },
  {
   "cell_type": "markdown",
   "id": "549b9d18",
   "metadata": {},
   "source": [
    "## Comment @property foctionne en Python"
   ]
  },
  {
   "cell_type": "code",
   "execution_count": 3,
   "id": "0b7d4614",
   "metadata": {},
   "outputs": [
    {
     "name": "stdout",
     "output_type": "stream",
     "text": [
      "24\n"
     ]
    }
   ],
   "source": [
    "# Getter simple (lecture dynamique)\n",
    "\n",
    "class Rectangle:\n",
    "    def __init__(self, largeur: float, hauteur: float):\n",
    "        self.largeur, self.hauteur = largeur, hauteur\n",
    "    @property\n",
    "    def aire(self):\n",
    "        return self.largeur * self.hauteur\n",
    "    \n",
    "# Utilisation\n",
    "r = Rectangle(4,6)\n",
    "print(r.aire) # 24, pas besoin d'écire r.aire()"
   ]
  },
  {
   "cell_type": "code",
   "execution_count": 4,
   "id": "89cd9aef",
   "metadata": {},
   "outputs": [
    {
     "name": "stdout",
     "output_type": "stream",
     "text": [
      "100\n"
     ]
    }
   ],
   "source": [
    "# Getter + Setter\n",
    "\n",
    "class Compte:\n",
    "    def __init__(self, solde):\n",
    "        self._solde = solde  # attribut protégé\n",
    "\n",
    "    @property\n",
    "    def solde(self):\n",
    "        \"\"\"Getter : lire le solde\"\"\"\n",
    "        return self._solde\n",
    "\n",
    "    @solde.setter\n",
    "    def solde(self, nouveau_solde):\n",
    "        \"\"\"Setter : modifier avec validation\"\"\"\n",
    "        if nouveau_solde < 0:\n",
    "            raise ValueError(\"Le solde ne peut pas être négatif\")\n",
    "        self._solde = nouveau_solde\n",
    "\n",
    "\n",
    "# --- Utilisation ---\n",
    "c = Compte(100)\n",
    "print(c.solde)   # 100 → passe par le getter\n",
    "c.solde = 200    # OK → passe par le setter\n",
    "# c.solde = -50  #  Erreur"
   ]
  },
  {
   "cell_type": "code",
   "execution_count": null,
   "id": "5463fb37",
   "metadata": {},
   "outputs": [],
   "source": [
    "# Getter + setter + Deleter (Pour controler la supperession d'un attribut)\n",
    "class Employe:\n",
    "    def __init__(self, nom: str):\n",
    "        self._nom = nom\n",
    "        \n",
    "    @property\n",
    "    def nom(self):\n",
    "        return self._nom\n",
    "    \n",
    "    @nom.setter\n",
    "    def nom(self, nouveau_nom):\n",
    "        if not nouveau_nom.strip():\n",
    "            raise ValueError(\"Nom invlide\")\n",
    "        self._nom = nouveau_nom\n",
    "    \n",
    "    @nom.deleter\n",
    "    def nom(self):\n",
    "        print(\"Suppression du nom...\")\n",
    "        del self._nom\n",
    "# Utilisation\n",
    "e = Employe(\"Emy\")\n",
    "print(e.nom) # getter\n",
    "e.nom = \"Sam\" # setter\n",
    "del e.nom       #deleter"
   ]
  },
  {
   "cell_type": "code",
   "execution_count": 5,
   "id": "6fd03ce0",
   "metadata": {},
   "outputs": [
    {
     "name": "stdout",
     "output_type": "stream",
     "text": [
      "20\n",
      "314.1592653589793\n",
      "78.53981633974483\n"
     ]
    }
   ],
   "source": [
    "class Cercle:\n",
    "    def __init__(self, rayon):\n",
    "        self.rayon = rayon\n",
    "\n",
    "    @property\n",
    "    def diametre(self):\n",
    "        return self.rayon * 2\n",
    "\n",
    "    @property\n",
    "    def aire(self):\n",
    "        import math\n",
    "        return math.pi * (self.rayon ** 2)\n",
    "\n",
    "\n",
    "# --- Utilisation ---\n",
    "c = Cercle(10)\n",
    "print(c.diametre)  # 20\n",
    "print(c.aire)      # 314.15...\n",
    "c.rayon = 5\n",
    "print(c.aire)      # 78.5... (recalculé automatiquement)"
   ]
  },
  {
   "cell_type": "code",
   "execution_count": 5,
   "id": "396b5fca",
   "metadata": {},
   "outputs": [
    {
     "name": "stdout",
     "output_type": "stream",
     "text": [
      "Création du produit T-Shirt avec un prix de 29.99€\n",
      "Processus terminé pour T-Shirt\n",
      "\n",
      "Création du produit Jeans avec un prix de 59.99€\n",
      "Processus terminé pour Jeans\n",
      "\n",
      "Création du produit Chaussures avec un prix de 89.99€\n",
      "Processus terminé pour Chaussures\n",
      "\n",
      "Taux de promotion actuel : 20.0%\n",
      "Prix promo T-Shirt : 23.99€\n",
      "Taux de promotion après modification via p2 : 30.0%\n",
      "Prix promo Jeans avec nouveau taux : 41.99€\n",
      "Taux de promotion après accès : 20.0%\n",
      "Nouveau taux de promotion via la classe : 25.0%\n",
      "Prix promo Chaussures avec nouveau taux : 67.49€\n",
      "\n",
      "Liste de tous les produits créés:\n",
      "Product(name=T-Shirt, base_price=29.99, promotion_rate=0.25)\n",
      "Product(name=Jeans, base_price=59.99, promotion_rate=0.3)\n",
      "Product(name=Chaussures, base_price=89.99, promotion_rate=0.25)\n"
     ]
    }
   ],
   "source": [
    "# Comment l'attribut de classe est protégé contre la modification directe\n",
    "class Product:\n",
    "    # Attribut de classe : taux de promotion commun à tous les produits\n",
    "    promotion_rate: float = 0.20  # 20% de réduction\n",
    "    tous_les_produits = []  # Liste pour suivre toutes les instances de produits\n",
    "    def __init__(self, name: str, base_price: float):\n",
    "        print(f\"Création du produit {name} avec un prix de {base_price}€\")\n",
    "        self.name = name\n",
    "        self.base_price = base_price  # Prix de base (attribut d'instance)\n",
    "        Product.tous_les_produits.append(self)  # Ajoute l'instance à la liste\n",
    "        print(f\"Processus terminé pour {name}\\n\")\n",
    "    # représentation textuelle de l'objet, un peu plus user friendly\n",
    "    # def __str__(self) -> str:\n",
    "    #     return f\"Produit: {self.name}, Prix de base: {self.base_price:.2f}€, Taux de promotion: {self.promotion_rate * 100}%\"\n",
    "    \n",
    "    # représentation officielle de l'objet, utile pour le debug\n",
    "    def __repr__(self) -> str:\n",
    "        return f\"Product(name={self.name}, base_price={self.base_price}, promotion_rate={self.promotion_rate})\"\n",
    "\n",
    "    def get_promotional_price(self) -> float:\n",
    "        # Calcule le prix promotionnel en utilisant l'attribut de classe.\n",
    "        return self.base_price * (1 - self.promotion_rate)\n",
    "\n",
    "    @classmethod\n",
    "    def get_promotion_rate(cls) -> float:\n",
    "        # Méthode de classe pour accéder au taux de promotion.\n",
    "        return cls.promotion_rate\n",
    "    \n",
    "    @classmethod\n",
    "    def get_nouvelle_promotion_rate(cls, nouveau_taux: float) -> None:\n",
    "        cls.promotion_rate = nouveau_taux # Méthode de classe pour modifier le taux de promotion.\n",
    "\n",
    "# Création de plusieurs produits\n",
    "p1 = Product(\"T-Shirt\", 29.99)\n",
    "p2 = Product(\"Jeans\", 59.99)\n",
    "p3 = Product(\"Chaussures\", 89.99)\n",
    "\n",
    "# Accès à l'attribut de classe via les objets\n",
    "print(f\"Taux de promotion actuel : {Product.get_promotion_rate() * 100}%\")  # 20%\n",
    "print(f\"Prix promo {p1.name} : {p1.get_promotional_price():.2f}€\")  # 23.99€\n",
    "# supposons que les temps ont changé et on veut modifier le taux de promotion pour certains produits\n",
    "# Product.promotion_rate = 0.30  # Mauvaise pratique : modification directe de l'attribut de classe\n",
    "# ce qu'il faut faire\n",
    "p2.promotion_rate = 0.30  # Crée un attribut d'instance, ne modifie pas l'attribut de classe\n",
    "print(f\"Taux de promotion après modification via p2 : {p2.promotion_rate * 100}%\")  # 30%\n",
    "print(f\"Prix promo {p2.name} avec nouveau taux : {p2.get_promotional_price():.2f}€\")  # 41.99€\n",
    "# Vérification : l'attribut de classe n'a pas changé\n",
    "print(f\"Taux de promotion après accès : {Product.promotion_rate * 100}%\")  # Toujours 20%\n",
    "\n",
    "# Maintenant, si on veut vraiment changer le taux de promotion pour tous les produits\n",
    "Product.get_nouvelle_promotion_rate(0.25)  # Change le taux de promotion à 25%\n",
    "print(f\"Nouveau taux de promotion via la classe : {Product.get_promotion_rate() * 100}%\")  # 25%\n",
    "print(f\"Prix promo {p3.name} avec nouveau taux : {p3.get_promotional_price():.2f}€\")  # 67.49€\n",
    "\n",
    "print(\"\\nListe de tous les produits créés:\")\n",
    "for produit in Product.tous_les_produits:\n",
    "    print(produit)\n",
    "    "
   ]
  },
  {
   "cell_type": "code",
   "execution_count": null,
   "id": "97f44daf",
   "metadata": {},
   "outputs": [],
   "source": [
    "# Méthodes statiques et de classe\n",
    "class Item:\n",
    "    @staticmethod\n",
    "    def my_static_method():\n",
    "        \"\"\"\n",
    "        Correction : \"Cette méthode doit être liée logiquement à la classe, mais ne dépend ni de la classe ni des instances.\n",
    "        Elle ne modifie pas l'état de la classe ou des instances.\"\n",
    "        \"\"\"\n",
    "        pass\n",
    "\n",
    "    @classmethod\n",
    "    def my_class_method(cls):\n",
    "        \"\"\"\n",
    "        \"Cette méthode agit sur la classe elle-même (via `cls`).\n",
    "        Elle peut modifier des attributs de classe ou être utilisée comme factory method pour créer des instances.\"\n",
    "        \"\"\"\n",
    "        pass"
   ]
  },
  {
   "cell_type": "code",
   "execution_count": 8,
   "id": "4bb72b8e",
   "metadata": {},
   "outputs": [
    {
     "ename": "ValueError",
     "evalue": "Retrait limité à 50% du solde",
     "output_type": "error",
     "traceback": [
      "\u001b[1;31m---------------------------------------------------------------------------\u001b[0m",
      "\u001b[1;31mValueError\u001b[0m                                Traceback (most recent call last)",
      "Cell \u001b[1;32mIn[8], line 24\u001b[0m\n\u001b[0;32m     22\u001b[0m compte \u001b[38;5;241m=\u001b[39m CompteEpargne(\u001b[38;5;241m1000\u001b[39m, \u001b[38;5;241m0.05\u001b[39m)\n\u001b[0;32m     23\u001b[0m compte\u001b[38;5;241m.\u001b[39mretirer(\u001b[38;5;241m400\u001b[39m)  \u001b[38;5;66;03m# OK\u001b[39;00m\n\u001b[1;32m---> 24\u001b[0m \u001b[43mcompte\u001b[49m\u001b[38;5;241;43m.\u001b[39;49m\u001b[43mretirer\u001b[49m\u001b[43m(\u001b[49m\u001b[38;5;241;43m600\u001b[39;49m\u001b[43m)\u001b[49m  \u001b[38;5;66;03m# ValueError: Retrait limité à 50% du solde\u001b[39;00m\n",
      "Cell \u001b[1;32mIn[8], line 18\u001b[0m, in \u001b[0;36mCompteEpargne.retirer\u001b[1;34m(self, montant)\u001b[0m\n\u001b[0;32m     16\u001b[0m \u001b[38;5;28;01mdef\u001b[39;00m \u001b[38;5;21mretirer\u001b[39m(\u001b[38;5;28mself\u001b[39m, montant):\n\u001b[0;32m     17\u001b[0m     \u001b[38;5;28;01mif\u001b[39;00m montant \u001b[38;5;241m>\u001b[39m \u001b[38;5;28mself\u001b[39m\u001b[38;5;241m.\u001b[39msolde \u001b[38;5;241m/\u001b[39m \u001b[38;5;241m2\u001b[39m:  \u001b[38;5;66;03m# Limite de retrait à 50% du solde\u001b[39;00m\n\u001b[1;32m---> 18\u001b[0m         \u001b[38;5;28;01mraise\u001b[39;00m \u001b[38;5;167;01mValueError\u001b[39;00m(\u001b[38;5;124m\"\u001b[39m\u001b[38;5;124mRetrait limité à 50\u001b[39m\u001b[38;5;132;01m% d\u001b[39;00m\u001b[38;5;124mu solde\u001b[39m\u001b[38;5;124m\"\u001b[39m)\n\u001b[0;32m     19\u001b[0m     \u001b[38;5;28msuper\u001b[39m()\u001b[38;5;241m.\u001b[39mretirer(montant)\n",
      "\u001b[1;31mValueError\u001b[0m: Retrait limité à 50% du solde"
     ]
    }
   ],
   "source": [
    "# comment l'héritage fonctionne\n",
    "class CompteBancaire:\n",
    "    def __init__(self, solde_initial):\n",
    "        self.solde = solde_initial\n",
    "\n",
    "    def retirer(self, montant):\n",
    "        if montant > self.solde:\n",
    "            raise ValueError(\"Solde insuffisant\")\n",
    "        self.solde -= montant\n",
    "\n",
    "class CompteEpargne(CompteBancaire):\n",
    "    def __init__(self, solde_initial, taux_interet):\n",
    "        super().__init__(solde_initial)  # Appelle le constructeur de CompteBancaire\n",
    "        self.taux_interet = taux_interet\n",
    "\n",
    "    def retirer(self, montant):\n",
    "        if montant > self.solde / 2:  # Limite de retrait à 50% du solde\n",
    "            raise ValueError(\"Retrait limité à 50% du solde\")\n",
    "        super().retirer(montant)  # Appelle la méthode retirer de CompteBancaire\n",
    "\n",
    "# Utilisation\n",
    "compte = CompteEpargne(1000, 0.05)\n",
    "compte.retirer(400)  # OK\n",
    "compte.retirer(600)  # ValueError: Retrait limité à 50% du solde"
   ]
  },
  {
   "cell_type": "code",
   "execution_count": null,
   "id": "8a173861",
   "metadata": {},
   "outputs": [
    {
     "name": "stdout",
     "output_type": "stream",
     "text": [
      "Fabrication de voiture en cours...\n",
      "Peugot 2007 avec un moteur de 500 CV fonctionnant à l'Essence\n",
      "Conduite de la Peugot modèle 2007\n",
      "Vroum vroum..... le moteur démarre...\n",
      "Fabrication de voiture en cours...\n",
      "Tesla S avec un moteur de 100 CV fonctionnant à l'Electricité\n",
      "Conduite de la Tesla modèle S\n",
      "Vroum vroum..... le moteur démarre...\n",
      "Fabrication de voiture en cours...\n"
     ]
    }
   ],
   "source": [
    "# comment une classe peut contenir une autre classe comme attribut\n",
    "class Moteur:\n",
    "    # classe représentant un moteur\n",
    "    def __init__(self, type_carburant: str, puissance_cv: int):\n",
    "        self.type_carburant = type_carburant\n",
    "        self.puissance_cv = puissance_cv\n",
    "        self.est_allume = False\n",
    "        \n",
    "    def demarrer(self):\n",
    "        if not self.est_allume:\n",
    "            print(\"Vroum vroum..... le moteur démarre...\")\n",
    "            self.est_allume = True\n",
    "        else:\n",
    "            print(\"Le moteur est déjà allumé.\")\n",
    "            \n",
    "    def eteindre(self):\n",
    "        if self.est_allume:\n",
    "            print(\"Le moteur est éteint...\")\n",
    "            self.est_allume = False\n",
    "    \n",
    "class Voiture:\n",
    "    # classe représentant une voiture\n",
    "    def __init__(self, marque :str, modele: str, moteur: Moteur):\n",
    "        print(\"Fabrication de voiture en cours...\")\n",
    "        self.marque = marque\n",
    "        self.modele = modele\n",
    "        self.moteur = moteur\n",
    "        \n",
    "    def conduire(self):\n",
    "        print(f\"Conduite de la {self.marque} modèle {self.modele}\")\n",
    "        self.moteur.demarrer()\n",
    "        \n",
    "    def __str__(self):\n",
    "        return f\"{self.marque} {self.modele} avec un moteur de {self.moteur.puissance_cv} CV fonctionnant à l'{self.moteur.type_carburant}\"\n",
    "        \n",
    "# Output\n",
    "\n",
    "# création des différents moteurs\n",
    "moteur_v10 = Moteur(type_carburant=\"Essence\", puissance_cv=1200)\n",
    "moteur_v8 = Moteur(type_carburant=\"Essence\", puissance_cv=500)\n",
    "moteur_electrique= Moteur(type_carburant=\"Electricité\", puissance_cv=100)\n",
    "# création des voitures\n",
    "\n",
    "ma_peugot = Voiture(marque=\"Peugot\", modele=\"2007\", moteur=moteur_v8)\n",
    "print(ma_peugot)\n",
    "ma_peugot.conduire()\n",
    "\n",
    "ma_tesla = Voiture(marque=\"Tesla\", modele=\"S\", moteur=moteur_electrique)\n",
    "print(ma_tesla)\n",
    "ma_tesla.conduire()\n",
    "ma_BM = Voiture(marque=\"BMW\", modele=\"w11\", moteur=moteur_v8)"
   ]
  },
  {
   "cell_type": "markdown",
   "id": "54b5924a",
   "metadata": {},
   "source": [
    "## Gestion des erreurs : Python Exceptions Handling"
   ]
  },
  {
   "cell_type": "code",
   "execution_count": 1,
   "id": "67f1a6c3",
   "metadata": {},
   "outputs": [
    {
     "name": "stdout",
     "output_type": "stream",
     "text": [
      "Erreur : 'p' n'est pas un nombre valide. L'âge doit être un entier.\n"
     ]
    }
   ],
   "source": [
    "# ValueError: Se produit qaund une fontion reçoit une valuer correcte en type, mais incorrecte en contenu. \n",
    "# Le cas le plus courant est conversion d'un test en nombre\n",
    "\n",
    "def exemple_valeu_error():\n",
    "    try:\n",
    "        age_str = input(\"Entrez votre âge: \")\n",
    "        age_num = int(age_str)\n",
    "        print(f\"Dans 5 ans, vous aurez {age_num + 5} ans.\")\n",
    "    except ValueError:\n",
    "         print(f\"Erreur : '{age_str}' n'est pas un nombre valide. L'âge doit être un entier.\")\n",
    "         \n",
    "exemple_valeu_error()"
   ]
  },
  {
   "cell_type": "code",
   "execution_count": 2,
   "id": "a4e859b8",
   "metadata": {},
   "outputs": [
    {
     "name": "stdout",
     "output_type": "stream",
     "text": [
      "Erreur : Impossible d'additionner des types différents . Un élément dans la liste n'est pas un nombre. Détails : unsupported operand type(s) for +=: 'int' and 'str'\n"
     ]
    }
   ],
   "source": [
    "# TypeError : Se produit quand on essaie d'effectuer une opération sur un type qui ne sorte pas (addition entre un entier et une chaîne de caractères par exemple)\n",
    "def exemple_type_error():\n",
    "    nombres = [10, 20, \"30\", 40]\n",
    "    total = 0\n",
    "    try:\n",
    "        for n in nombres:\n",
    "            total += n  # Provoque une TypeError lorsque n est une chaîne\n",
    "        print(f\"Le total est {total}.\")\n",
    "    except TypeError as e:\n",
    "        print(f\"Erreur : Impossible d'additionner des types différents . Un élément dans la liste n'est pas un nombre. Détails : {e}\")\n",
    "        \n",
    "exemple_type_error()"
   ]
  },
  {
   "cell_type": "code",
   "execution_count": null,
   "id": "4074edc0",
   "metadata": {},
   "outputs": [
    {
     "name": "stdout",
     "output_type": "stream",
     "text": [
      "Erreur : L'index 5 est hors limites. Détails : list index out of range\n"
     ]
    }
   ],
   "source": [
    "# IndexError: Se produit quand on essaie d'accéder à un index qui n'existe pas dans une liste ou une chaîne de caractères.\n",
    "def exemple_index_error():\n",
    "    participants = [\"Alice\", \"Bob\", \"Charlie\"]\n",
    "    try:\n",
    "        index_a_afficher = 5 # Index hors limites\n",
    "        print(f\"Le participant à l'index {index_a_afficher} est {participants[index_a_afficher]}.\")\n",
    "    except IndexError as e:\n",
    "        print(f\"Erreur : L'index {index_a_afficher} est hors limites. Détails : {e}\")\n",
    "        \n",
    "exemple_index_error()"
   ]
  },
  {
   "cell_type": "code",
   "execution_count": 5,
   "id": "f9be0857",
   "metadata": {},
   "outputs": [
    {
     "name": "stdout",
     "output_type": "stream",
     "text": [
      "Erreur : La clé 'password' n'existe pas dans la configuration. Détails : 'password'\n"
     ]
    }
   ],
   "source": [
    "# KeyError: L'équivalent de l'IndexError pour les dictionnaires. Se produit lorsqu'on essaie d'accéder à une clé qui n'existe pas.\n",
    "def exemple_key_error():\n",
    "    config = {\"user\": \"admin\", \"port\": 8080}\n",
    "    try:\n",
    "        cle_a_acceder = \"password\"  # Clé inexistante\n",
    "        print(f\"Le mot de passe est {config[cle_a_acceder]}.\")\n",
    "    except KeyError as e:\n",
    "        print(f\"Erreur : La clé '{cle_a_acceder}' n'existe pas dans la configuration. Détails : {e}\")\n",
    "\n",
    "exemple_key_error()"
   ]
  },
  {
   "cell_type": "code",
   "execution_count": 6,
   "id": "f0d91dd6",
   "metadata": {},
   "outputs": [
    {
     "name": "stdout",
     "output_type": "stream",
     "text": [
      "Erreur : Le fichier 'fichier_inexistant.txt' n'a pas été trouvé. Détails : [Errno 2] No such file or directory: 'fichier_inexistant.txt'\n"
     ]
    }
   ],
   "source": [
    "# FileNotFoundError: Se produit quand on essaie d'ouvrir un fichier que n'éxiste pas.\n",
    "def exemple_file_not_found_error():\n",
    "    nom_fichier = \"fichier_inexistant.txt\" # Fichier qui n'existe pas\n",
    "    try:\n",
    "        with open(nom_fichier, 'r') as f:\n",
    "            contenu = f.read() # Provoque FileNotFoundError si le fichier n'existe pas\n",
    "            print(contenu)\n",
    "    except FileNotFoundError as e:\n",
    "        print(f\"Erreur : Le fichier '{nom_fichier}' n'a pas été trouvé. Détails : {e}\")\n",
    "\n",
    "exemple_file_not_found_error()"
   ]
  },
  {
   "cell_type": "markdown",
   "id": "9796eb7a",
   "metadata": {},
   "source": [
    "### Utilisation de `else`, `finally` et `raise`\n",
    "  - `else`: pour le code qui doit s'exécuter seulement si le `try` réussit.\n",
    "  - `finally`: pour le nettoyage qui doit TOUJOURS avoir lieu.\n",
    "  - `raise`: pour signaler une erreur de logique que nous détectons nous-mêmes (utile pour le débogage)."
   ]
  },
  {
   "cell_type": "code",
   "execution_count": 15,
   "id": "3f21d9e7",
   "metadata": {},
   "outputs": [
    {
     "name": "stdout",
     "output_type": "stream",
     "text": [
      "Erreur de valeur : La quantité ne peut pas être négative\n",
      "Le fichier a été fermé.\n"
     ]
    }
   ],
   "source": [
    "def exemple_else_finally_raise():\n",
    "    fichier = None # on initialise au cas où l'ouverture échoue\n",
    "    try:\n",
    "        fichier = open(\"txt_files/fichier.txt\", \"w\") # mode écriture pour créer le fichier s'il n'existe pas\n",
    "        quantite = -10  # Valeur incorrecte pour démontrer raise\n",
    "        if quantite < 0:\n",
    "            raise ValueError(\"La quantité ne peut pas être négative\")\n",
    "        # cette ne sera pas atteinte si l'exception est levée\n",
    "        contenu = f\"Rapport de vente\\nQuantité vendue: {quantite}\\n\"\n",
    "        fichier.write(contenu)\n",
    "    except FileNotFoundError as e:\n",
    "        print(f\"Erreur : Impossible de créer le fichier. Détails : {e}\")\n",
    "    except ValueError as e:\n",
    "        print(f\"Erreur de valeur : {e}\")\n",
    "    else:\n",
    "        print(f\"Le rapport a été écrit avec succès.\")\n",
    "    finally:\n",
    "        # s'exécute toujours, que l'exception soit levée ou non\n",
    "        if fichier: # si le fichier a été ouvert avec succès\n",
    "            fichier.close()\n",
    "            print(\"Le fichier a été fermé.\")\n",
    "            \n",
    "exemple_else_finally_raise()"
   ]
  },
  {
   "cell_type": "markdown",
   "id": "855e67c9",
   "metadata": {},
   "source": [
    "### Créer et utiliser ses propres exceptions"
   ]
  },
  {
   "cell_type": "code",
   "execution_count": 16,
   "id": "8d4da709",
   "metadata": {},
   "outputs": [
    {
     "name": "stdout",
     "output_type": "stream",
     "text": [
      "Ajouté 50 unités de 'Widget'. Stock actuel : 50.\n",
      "Vendu 20 unités de 'Widget'. Stock restant : 30.\n",
      "Erreur d'inventaire : Stock insuffisant pour 'Widget'. Demandé : 40, disponible : 0.\n",
      "Liste finale des stocks : {'Widget': 30}\n",
      "Opération d'inventaire terminée.\n"
     ]
    }
   ],
   "source": [
    "# Etape 1 : Définir les erreurs personnalisées qui dérivent notre métier\n",
    "# Elles héritent de la calasse Exception\n",
    "\n",
    "class ErreurInventaire(Exception):\n",
    "    \"\"\"Classe de base pour les erreurs liées à l'inventaire.\"\"\"\n",
    "    pass\n",
    "\n",
    "class ProduitHorsStockError(ErreurInventaire):\n",
    "    \"\"\"Levée quand on essaie de vendre un produit hors stock.\"\"\"\n",
    "    def __init__(self, produit, demande):\n",
    "        self.produit = produit\n",
    "        self.demande = demande\n",
    "        super().__init__(f\"Stock insuffisant pour '{produit}'. Demandé : {demande}, disponible : 0.\")\n",
    "\n",
    "class QuantiteInvalideError(ErreurInventaire):\n",
    "    \"\"\"Levée quand une quantité négative est demandée.\"\"\"\n",
    "    pass\n",
    "\n",
    "# Etape 2 : Utiliser ces erreurs dans notre logique métier\n",
    "class Inventaire:\n",
    "    def __init__(self):\n",
    "        self.stock = {}  # Dictionnaire pour suivre le stock des produits\n",
    "\n",
    "    def ajouter_produit(self, produit, quantite):\n",
    "        if quantite < 0:\n",
    "            raise QuantiteInvalideError(\"La quantité à ajouter ne peut pas être négative.\")\n",
    "        self.stock[produit] = self.stock.get(produit, 0) + quantite\n",
    "        print(f\"Ajouté {quantite} unités de '{produit}'. Stock actuel : {self.stock[produit]}.\")\n",
    "\n",
    "    def vendre_produit(self, produit, quantite):\n",
    "        if quantite < 0:\n",
    "            raise QuantiteInvalideError(\"La quantité à vendre ne peut pas être négative.\")\n",
    "        if produit not in self.stock or self.stock[produit] < quantite:\n",
    "            raise ProduitHorsStockError(produit, quantite)\n",
    "        self.stock[produit] -= quantite # Met à jour le stock après la vente : self.stock[produit] = self.stock[produit] - quantite\n",
    "        print(f\"Vendu {quantite} unités de '{produit}'. Stock restant : {self.stock[produit]}.\")\n",
    "        \n",
    "# Etape 3 : Gérer ces erreurs lors de l'utilisation de la classe Inventaire\n",
    "inventaire = Inventaire()\n",
    "try:\n",
    "    inventaire.ajouter_produit(\"Widget\", 50)\n",
    "    inventaire.vendre_produit(\"Widget\", 20)\n",
    "    inventaire.vendre_produit(\"Widget\", 40)  # Provoque ProduitHorsStockError\n",
    "    inventaire.ajouter_produit(\"Gadget\", -10)  # Provoque QuantiteInvalideError\n",
    "except ErreurInventaire as e:\n",
    "    print(f\"Erreur d'inventaire : {e}\")\n",
    "finally:\n",
    "    print(f\"Liste finale des stocks : {inventaire.stock}\")\n",
    "    print(\"Opération d'inventaire terminée.\")"
   ]
  },
  {
   "cell_type": "markdown",
   "id": "a7ddadd7",
   "metadata": {},
   "source": [
    "## Gestion de fichiers : File Handling in Python `txt`, `csv` et `json` "
   ]
  },
  {
   "cell_type": "markdown",
   "id": "64e7fc0d",
   "metadata": {},
   "source": [
    "Tips : Pensez à toujours spécifier `encoding=\"utf-8\"`. C'est un standard qui gère correctement les accents et les caractères spéciaux, vous évitant de nombreuses erreurs."
   ]
  },
  {
   "cell_type": "code",
   "execution_count": 31,
   "id": "ec9a1a1e",
   "metadata": {},
   "outputs": [],
   "source": [
    "# les différenstes adresses de fichiers\n",
    "file_path_txt = \"txt_files/fichier.txt\"\n",
    "file_path_csv = \"csv_files/exemple.csv\"\n",
    "file_path_json = \"json_files/config.json\""
   ]
  },
  {
   "cell_type": "code",
   "execution_count": null,
   "id": "5c483a7d",
   "metadata": {},
   "outputs": [],
   "source": [
    "\n",
    "with open(file_path_txt, \"w\") as fichier:\n",
    "    fichier.write(\"Nouveau contenu....\")"
   ]
  },
  {
   "cell_type": "code",
   "execution_count": null,
   "id": "e81bf8b1",
   "metadata": {},
   "outputs": [],
   "source": [
    "# Ecriture dans un fichier\n",
    "ligne_a_ecrire = [\"Prémière ligne. \\n\", \"Deuxième ligne. \\n\", \"Et une troisième ligne. \\n\"]\n",
    "with open(file_path_txt, \"w\", encoding=\"utf-8\") as file:\n",
    "    texte_de_titre = \"Titre de ce rapport d'activité. \\n\"\n",
    "    file.write(texte_de_titre.title())\n",
    "    file.writelines(ligne_a_ecrire)\n",
    "    \n",
    "    texte_de_fin = \"Je veindrai...\"\n",
    "with open(file_path_txt, \"a\", encoding=\"utf-8\") as file:\n",
    "    file.write(texte_de_fin.upper())"
   ]
  },
  {
   "cell_type": "code",
   "execution_count": null,
   "id": "f723829f",
   "metadata": {},
   "outputs": [
    {
     "name": "stdout",
     "output_type": "stream",
     "text": [
      "Affichage du contenu\n",
      "Titre De Ce Rapport D'Activité. \n",
      "Prémière ligne. \n",
      "Deuxième ligne. \n",
      "Et une troisième ligne. \n",
      "JE VEINDRAI...\n",
      "Lecture ligne par ligne\n",
      "Titre De Ce Rapport D'Activité.\n",
      "Prémière ligne.\n",
      "Deuxième ligne.\n",
      "Et une troisième ligne.\n",
      "JE VEINDRAI...\n",
      "Lignes dans le fichier\n",
      "[\"Titre De Ce Rapport D'Activité. \\n\", 'Prémière ligne. \\n', 'Deuxième ligne. \\n', 'Et une troisième ligne. \\n', 'JE VEINDRAI...']\n",
      "La deuxième ligne est : 'Prémière ligne.\n"
     ]
    }
   ],
   "source": [
    "# lecture d'un fichier .txt\n",
    "\n",
    "try:\n",
    "    with open(file_path_txt, \"r\", encoding=\"utf-8\") as file:\n",
    "        # méthode 1\n",
    "        contenu_total = file.read()\n",
    "        print(\"Affichage du contenu\")\n",
    "        print(contenu_total)\n",
    "        file.seek(0) # rembobiner le curseur pour relire le fichhier\n",
    "        \n",
    "        # méthode 2\n",
    "        print(\"Lecture ligne par ligne\")\n",
    "        for ligne in file:\n",
    "            print(ligne.strip())\n",
    "        file.seek(0)\n",
    "        \n",
    "        # méthode 3\n",
    "        toutes_les_lignes = file.readlines()\n",
    "        print(\"Lignes dans le fichier\")\n",
    "        print(toutes_les_lignes)\n",
    "        print(f\"La deuxième ligne est : '{toutes_les_lignes[1].strip()}\")\n",
    "except FileNotFoundError as e:\n",
    "    print(f\"Le fichier que vous esseyé de lire {file_path_txt} n'a pas été trouvé. détails {e}\")"
   ]
  },
  {
   "cell_type": "markdown",
   "id": "e8623335",
   "metadata": {},
   "source": [
    "### Manipuler les fichiers CSV"
   ]
  },
  {
   "cell_type": "code",
   "execution_count": null,
   "id": "ff570629",
   "metadata": {},
   "outputs": [],
   "source": [
    "import csv\n",
    "\n",
    "# Données : une liste de listes (dictionnaires)\n",
    "donnees_a_ecire = [\n",
    "    [\"nom\", \"poste\", \"annee_debut\"],\n",
    "    [\"Florien\", \"Ingénieure Logiciel\", 2018],\n",
    "    [\"Matt\", \"Designer UI/UX\", 2020],\n",
    "    [\"Charlie\", \"Chef de projet SAP\", 2016],\n",
    "    [\"Robbert\", \"Comptable financier\", 2002]\n",
    "]\n",
    "\n",
    "with open(file_path_csv, \"w\", newline=\"\", encoding=\"utf-8\") as file:\n",
    "    writer = csv.writer(file)\n",
    "    writer.writerows(donnees_a_ecire)"
   ]
  },
  {
   "cell_type": "code",
   "execution_count": 29,
   "id": "3d7968fa",
   "metadata": {},
   "outputs": [
    {
     "name": "stdout",
     "output_type": "stream",
     "text": [
      "En-tetes : ['nom', 'poste', 'annee_debut']\n",
      "Méthode 1\n",
      "Florien est Ingénieure Logiciel depuis 2018\n",
      "Matt est Designer UI/UX depuis 2020\n",
      "Charlie est Chef de projet SAP depuis 2016\n",
      "Robbert est Comptable financier depuis 2002\n",
      "Méthode 2\n",
      "Florien est Ingénieure Logiciel depuis 2018.\n",
      "Matt est Designer UI/UX depuis 2020.\n",
      "Charlie est Chef de projet SAP depuis 2016.\n",
      "Robbert est Comptable financier depuis 2002.\n"
     ]
    }
   ],
   "source": [
    "# lecture d'un fichier\n",
    "test_path = \"csv_files/exemple.csv\"\n",
    "try:\n",
    "    with open(test_path, \"r\", encoding=\"utf-8\") as file:\n",
    "        # méthod 1 : csv.reader (chaque ligne est une liste de chaines)\n",
    "        reader = csv.reader(file)\n",
    "        en_tete = next(reader) # on lit ma prémière ligne\n",
    "        print(f\"En-tetes : {en_tete}\")\n",
    "        print(\"Méthode 1\")\n",
    "        for ligne in reader:\n",
    "            print(f\"{ligne[0]} est {ligne[1]} depuis {ligne[2]}\")\n",
    "            \n",
    "    with open(test_path, \"r\", encoding=\"utf-8\") as file:\n",
    "        reader = csv.DictReader(file)\n",
    "        print(\"Méthode 2\")\n",
    "        for ligne_dict in reader:\n",
    "            print(f\"{ligne_dict['nom']} est {ligne_dict['poste']} depuis {ligne_dict['annee_debut']}.\")\n",
    "except FileNotFoundError as e:\n",
    "    print(f\"Le fichier 'equipe.csv' est introuvable. Détails {e}\")"
   ]
  },
  {
   "cell_type": "markdown",
   "id": "413b6c8c",
   "metadata": {},
   "source": [
    "Tips : L'argument `newline=\"\"` est très important. Il évite que le module `csv` n'ajoute des lignes vides entre chaque entrée sur certains systèmes d'exploitation (comme Windows)."
   ]
  },
  {
   "cell_type": "markdown",
   "id": "c4956a44",
   "metadata": {},
   "source": [
    "### Manipuler les fichiers json"
   ]
  },
  {
   "cell_type": "code",
   "execution_count": 30,
   "id": "784b6196",
   "metadata": {},
   "outputs": [],
   "source": [
    "import json\n",
    "\n",
    "# Un dictionaire Python\n",
    "donnees_python = {\n",
    "    \"nom\": \"Projet Alpha\",\n",
    "    \"version\": 1.2,\n",
    "    \"membres\": [\n",
    "        {\"nom\": \"Alice\", \"role\": \"lead\"},\n",
    "        {\"nom\": \"Bob\", \"role\": \"dev\"}\n",
    "    ],\n",
    "    \"actif\": True\n",
    "}\n",
    "\n",
    "with open(\"json_files/config.json\", \"w\", encoding=\"utf-8\") as file:\n",
    "    # json.dump() écrit l'objet Python dans le fichier au format JSON\n",
    "    json.dump(donnees_python, file, indent=4)"
   ]
  },
  {
   "cell_type": "code",
   "execution_count": 33,
   "id": "32a19f7f",
   "metadata": {},
   "outputs": [
    {
     "name": "stdout",
     "output_type": "stream",
     "text": [
      "Données chargées depuis le JSON\n",
      "<class 'dict'>\n",
      "{'nom': 'Projet Alpha', 'version': 1.2, 'membres': [{'nom': 'Alice', 'role': 'lead'}, {'nom': 'Bob', 'role': 'dev'}], 'actif': True}\n",
      "Nom du projet: Projet Alpha\n",
      "Premier membre: Alice\n"
     ]
    }
   ],
   "source": [
    "import json\n",
    "\n",
    "try:\n",
    "    with open(file_path_json, \"r\", encoding=\"utf-8\") as file:\n",
    "        # json.load() lit le fichier JSON et le convertit en objet python\n",
    "        donnees_chargees = json.load(file)\n",
    "        print(\"Données chargées depuis le JSON\")\n",
    "        print(type(donnees_chargees))\n",
    "        print(donnees_chargees)\n",
    "        \n",
    "        # on peut maintenant y accéder comme un dictionnaire Python normal\n",
    "        print(f\"Nom du projet: {donnees_chargees['nom']}\")\n",
    "        premier_membre = donnees_chargees['membres'][0]['nom']\n",
    "        print(f\"Premier membre: {premier_membre}\")\n",
    "except FileNotFoundError:\n",
    "    print(\"Le fichier 'config.json' est introuvable.\")\n",
    "except json.JSONDecodeError:\n",
    "    print(\"Erreur : Le fichier 'config.json' n'est pas un JSON valide.\")"
   ]
  },
  {
   "cell_type": "markdown",
   "id": "5aece663",
   "metadata": {},
   "source": [
    "Tips : `indent=4` n'est pas obligatoire, mais il rend le fichier JSON beaucoup plus lisible pour un humain en ajoutant une indentation. C'est une excellente pratique."
   ]
  },
  {
   "cell_type": "markdown",
   "id": "a1ff253e",
   "metadata": {},
   "source": [
    "### Programme pratique : POO, gestion des erreurs et gestion de fichiers"
   ]
  },
  {
   "cell_type": "markdown",
   "id": "a9245716",
   "metadata": {},
   "source": [
    "**Analyse un texte (entré par l’utilisateur) et affiche :**\n",
    "- nombre de mots, phrases\n",
    "- mots les plus fréquents\n",
    "- longueur moyenne des mots\n",
    "  \n",
    "**Concepts :**\n",
    "\n",
    "*split(), count(), len(), dict, sorted(), string.punctuation, Boucles et conditions*\n",
    "**Fonctionnalités :**\n",
    "- Nettoyer le texte\n",
    "- Compter les mots et phrases\n",
    "- Afficher le mot le plus fréquent"
   ]
  },
  {
   "cell_type": "code",
   "execution_count": null,
   "id": "f5030dfa",
   "metadata": {},
   "outputs": [
    {
     "name": "stdout",
     "output_type": "stream",
     "text": [
      "La phrase entrée contient 9 mots.\n",
      "{'hello': 1, 'les': 2, 'gars': 2, 'vous': 1, 'aller': 1, 'tous': 1, 'bien': 1}\n",
      "Le mot le plus fréquent est 'les' avec 2 occurrences.\n",
      "La longueur moyenne des mots est de 4.00 caractères.\n"
     ]
    }
   ],
   "source": [
    "import string\n",
    "\n",
    "phrase = input(\"Entrer une phrase: \")\n",
    "phrase = phrase.translate(str.maketrans(\"\", \"\", string.punctuation)).lower() # ici on enlève la ponctuation et on met en minuscule\n",
    "\n",
    "def nombre_de_mot(phrase: str) -> int:\n",
    "    nombre_mots = len(phrase.split())\n",
    "    return f\"La phrase entrée contient {nombre_mots} mots.\"\n",
    "\n",
    "def mot_frequents(phrase: str) -> str:\n",
    "    freq = {}\n",
    "    phrase = phrase.split()\n",
    "    for mot in phrase:\n",
    "        freq[mot] = freq.get(mot, 0) + 1\n",
    "    print(freq)\n",
    "    # afficher le mot le plus fréquent\n",
    "    mot_plus_frequent = max(freq, key=freq.get)\n",
    "    return f\"Le mot le plus fréquent est '{mot_plus_frequent}' avec {freq[mot_plus_frequent]} occurrences.\"\n",
    "\n",
    "def longueur_moyenne_mots(phrase: str) -> float:\n",
    "    mots = phrase.split()\n",
    "    longueurs = [len(mot) for mot in mots]\n",
    "    try:\n",
    "        longueur_moyenne = sum(longueurs) / len(mots) if mots else 0\n",
    "    except ZeroDivisionError as e:\n",
    "        return f\"Erreur : La phrase ne contient pas de mots. détails {e}\"\n",
    "    return f\"La longueur moyenne des mots est de {longueur_moyenne:.2f} caractères.\"\n",
    "\n",
    "print(nombre_de_mot(phrase))\n",
    "print(mot_frequents(phrase))\n",
    "print(longueur_moyenne_mots(phrase))"
   ]
  },
  {
   "cell_type": "markdown",
   "id": "b6a9085e",
   "metadata": {},
   "source": []
  }
 ],
 "metadata": {
  "kernelspec": {
   "display_name": "Python 3",
   "language": "python",
   "name": "python3"
  },
  "language_info": {
   "codemirror_mode": {
    "name": "ipython",
    "version": 3
   },
   "file_extension": ".py",
   "mimetype": "text/x-python",
   "name": "python",
   "nbconvert_exporter": "python",
   "pygments_lexer": "ipython3",
   "version": "3.12.0"
  }
 },
 "nbformat": 4,
 "nbformat_minor": 5
}
