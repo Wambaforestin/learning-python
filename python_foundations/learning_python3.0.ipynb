{
 "cells": [
  {
   "cell_type": "markdown",
   "id": "fec0d717",
   "metadata": {},
   "source": [
    "## Gestion de fichiers et programmation orientée objet"
   ]
  },
  {
   "cell_type": "code",
   "execution_count": null,
   "id": "cf2f1f21",
   "metadata": {
    "vscode": {
     "languageId": "plaintext"
    }
   },
   "outputs": [],
   "source": []
  }
 ],
 "metadata": {
  "language_info": {
   "name": "python"
  }
 },
 "nbformat": 4,
 "nbformat_minor": 5
}
