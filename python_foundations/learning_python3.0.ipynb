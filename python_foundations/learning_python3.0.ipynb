{
 "cells": [
  {
   "cell_type": "markdown",
   "id": "fec0d717",
   "metadata": {},
   "source": [
    "##  Programmation Orientée Objet et Gestion de fichiers"
   ]
  },
  {
   "cell_type": "markdown",
   "id": "cf2f1f21",
   "metadata": {},
   "source": [
    "> Tutoriel complet illustrant les concepts de la programmation orientée objet"
   ]
  },
  {
   "cell_type": "markdown",
   "id": "736a20a2",
   "metadata": {},
   "source": [
    "> Système de gestion bancaire"
   ]
  },
  {
   "cell_type": "code",
   "execution_count": 7,
   "id": "d7461339",
   "metadata": {},
   "outputs": [
    {
     "name": "stdout",
     "output_type": "stream",
     "text": [
      "Compte Courant de Sammy: 5000.00€\n",
      "Compte Epargne de Sammy: 500.00€\n",
      "Après transactions et application des intérêts:\n",
      "Compte Courant de Sammy: 5350.00€\n",
      "Compte Epargne de Sammy: 494.40€\n",
      "Compte Courant de Sammy: 5350.00€\n",
      "Compte Epargne de Sammy: 494.40€\n",
      "100€ en USD ($)110.00\n",
      "Solde initial: 100€\n",
      "Nouveau solde: 200€\n"
     ]
    }
   ],
   "source": [
    "\"\"\"\n",
    "PARTIE 1 : Classes et objets : Permet de modéliser des entités réelles (ici un compte bancaire)\n",
    "\"\"\"\n",
    "class Client:\n",
    "    # Représente un client bancaire\n",
    "    def __init__(self, nom: str, email: str):\n",
    "        self.nom, self.email = nom, email\n",
    "    \n",
    "    def __str__(self) -> str:\n",
    "        return f\"Client: {self.nom} ({self.email})\"\n",
    "    \n",
    "\"\"\"\n",
    "PARTIE 2 : Attributs et méthodes\n",
    "\"\"\"\n",
    "class CompteBancaire:\n",
    "    # Représente un compte bancaire\n",
    "    taux_interet: float = 0.02 # attruibut de classe\n",
    "    \n",
    "    def __init__(self, client: Client, solde_initial: float = 0.0):\n",
    "        self.client, self.solde = client, solde_initial # attribut d'instance (client)\n",
    "    \n",
    "    def deposer(self, montant: float) -> None:\n",
    "        self.solde = self.solde + montant\n",
    "     \n",
    "    def retirer(self, montant: float) -> None:\n",
    "        if montant > self.solde:\n",
    "            raise ValueError(\"Fonds inssuffisants\")\n",
    "        self.solde = self.solde - montant\n",
    "        \n",
    "    @classmethod\n",
    "    def changer_taux_interet(cls, nouveau_taux: float) -> None:\n",
    "        cls.taux_interet = nouveau_taux\n",
    "        \n",
    "    @staticmethod\n",
    "    def convertir_euro_usd(montant: float, taux: float = 1.1) -> float:\n",
    "        return montant * taux\n",
    "    \n",
    "\"\"\"\n",
    "PARTIE 3 : Encapsulation : Protection des données via les getters et les setters\n",
    "\"\"\"\n",
    "class CompteSecure:\n",
    "    def __init__(self, solde_initial: float = 0.0):\n",
    "        self._solde = solde_initial # convention protected\n",
    "    # pythonic way with property decorator    \n",
    "    @property\n",
    "    def solde(self) -> float:\n",
    "        return self._solde\n",
    "    \n",
    "    @solde.setter\n",
    "    def solde(self, valeur: float) -> None:\n",
    "        if valeur < 0:\n",
    "            raise ValueError(\"Le solde ne peut pas etre négatif\")\n",
    "        self._solde = valeur\n",
    "        \n",
    "    # non pythonic way with explicit getter and setter\n",
    "    def get_solde(self) -> float:\n",
    "        return self._solde\n",
    "    def set_solde(self, valeur: float) -> None:\n",
    "        if valeur < 0:\n",
    "            raise ValueError(\"Le solde ne peut pas etre négatif\")\n",
    "        self._solde = valeur\n",
    "    \n",
    "\"\"\"\n",
    "PARTIE 4 : Héritage\n",
    "\"\"\"\n",
    "\n",
    "class CompteEpargne(CompteBancaire):\n",
    "    def appliquer_interet(self):\n",
    "        self.solde = self.solde + (self.solde * self.taux_interet)\n",
    "    def __str__(self):\n",
    "        return f\"Compte Epargne de {self.client.nom}: {self.solde:.2f}€\"\n",
    "    \n",
    "    \n",
    "\"\"\"\n",
    "PARTIE 5 : Polymorphisme : Meme méthode, comportement différent\n",
    "\"\"\"\n",
    "class CompteCourant(CompteBancaire):\n",
    "    def __str__(self) -> str:\n",
    "        return f\"Compte Courant de {self.client.nom}: {self.solde:.2f}€\"\n",
    "    \n",
    "\"\"\"\n",
    "PARTIE 6 : Abstraction\n",
    "\"\"\"\n",
    "from abc import ABC, abstractclassmethod\n",
    "\n",
    "class Transaction(ABC):\n",
    "    @abstractclassmethod\n",
    "    def executer(self, compte: CompteBancaire) -> None:\n",
    "        pass\n",
    "    \n",
    "class Depot(Transaction):\n",
    "    def __init__(self, montant: float):\n",
    "        self.montant = montant\n",
    "\n",
    "    def executer(self, compte: CompteBancaire) -> None:\n",
    "        compte.deposer(self.montant)\n",
    "\n",
    "class Retrait(Transaction):\n",
    "    def __init__(self, montant: float):\n",
    "        self.montant = montant\n",
    "\n",
    "    def executer(self, compte: CompteBancaire) -> None:\n",
    "        compte.retirer(self.montant)\n",
    "    \n",
    "    \n",
    "# Démonstration en utilisant tous les concepts\n",
    "# création d'un client et comptes\n",
    "client = Client(\"Sammy\", \"sammy@example.com\")\n",
    "c_courant = CompteCourant(client, 5000)\n",
    "c_epargne = CompteEpargne(client, 500)\n",
    "\n",
    "print(c_courant)\n",
    "print(c_epargne)\n",
    "\n",
    "# Transaction avec abs\n",
    "depot = Depot(350)\n",
    "depot.executer(c_courant)\n",
    "retrait = Retrait(20)\n",
    "retrait.executer(c_epargne)\n",
    "\n",
    "# changement du taux d'intérêt\n",
    "CompteBancaire.changer_taux_interet(0.03) # en utilisant la méthode de classe\n",
    "c_epargne.appliquer_interet()\n",
    "print(\"Après transactions et application des intérêts:\")\n",
    "print(c_courant)\n",
    "print(c_epargne)\n",
    "\n",
    "# appel de __str__ pour démontrer le polymorphism\n",
    "comptes = [c_courant, c_epargne]\n",
    "for c in comptes:\n",
    "    print(c)\n",
    "    \n",
    "# utilisation de la méthode statique\n",
    "print(f\"100€ en USD ($){CompteBancaire.convertir_euro_usd(100):.2f}\")\n",
    "\n",
    "# utilisation des getters et setters avec encapsulation, @property\n",
    "# @property permet transformer une méthode en attribut, c'est à dire qu'on peut l'utiliser sans les parenthèses lorsque on l'appelle et on peut aussi lui attribuer une valeur lorsqu'on utilise le setter (lorsque le fonction prend quelque chose en argument)\n",
    "compte_secure = CompteSecure(100)\n",
    "print(f\"Solde initial: {compte_secure.solde}€\")\n",
    "compte_secure.solde = 200\n",
    "print(f\"Nouveau solde: {compte_secure.solde}€\")"
   ]
  },
  {
   "cell_type": "markdown",
   "id": "549b9d18",
   "metadata": {},
   "source": [
    "## @property"
   ]
  },
  {
   "cell_type": "code",
   "execution_count": 3,
   "id": "0b7d4614",
   "metadata": {},
   "outputs": [
    {
     "name": "stdout",
     "output_type": "stream",
     "text": [
      "24\n"
     ]
    }
   ],
   "source": [
    "# Getter simple (lecture dynamique)\n",
    "\n",
    "class Rectangle:\n",
    "    def __init__(self, largeur: float, hauteur: float):\n",
    "        self.largeur, self.hauteur = largeur, hauteur\n",
    "    @property\n",
    "    def aire(self):\n",
    "        return self.largeur * self.hauteur\n",
    "    \n",
    "# Utilisation\n",
    "r = Rectangle(4,6)\n",
    "print(r.aire) # 24, pas besoin d'écire r.aire()"
   ]
  },
  {
   "cell_type": "code",
   "execution_count": 4,
   "id": "89cd9aef",
   "metadata": {},
   "outputs": [
    {
     "name": "stdout",
     "output_type": "stream",
     "text": [
      "100\n"
     ]
    }
   ],
   "source": [
    "# Getter + Setter\n",
    "\n",
    "class Compte:\n",
    "    def __init__(self, solde):\n",
    "        self._solde = solde  # attribut protégé\n",
    "\n",
    "    @property\n",
    "    def solde(self):\n",
    "        \"\"\"Getter : lire le solde\"\"\"\n",
    "        return self._solde\n",
    "\n",
    "    @solde.setter\n",
    "    def solde(self, nouveau_solde):\n",
    "        \"\"\"Setter : modifier avec validation\"\"\"\n",
    "        if nouveau_solde < 0:\n",
    "            raise ValueError(\"Le solde ne peut pas être négatif\")\n",
    "        self._solde = nouveau_solde\n",
    "\n",
    "\n",
    "# --- Utilisation ---\n",
    "c = Compte(100)\n",
    "print(c.solde)   # 100 → passe par le getter\n",
    "c.solde = 200    # OK → passe par le setter\n",
    "# c.solde = -50  #  Erreur"
   ]
  },
  {
   "cell_type": "code",
   "execution_count": null,
   "id": "5463fb37",
   "metadata": {},
   "outputs": [],
   "source": [
    "# Getter + setter + Deleter (Pour controler la supperession d'un attribut)\n",
    "class Employe:\n",
    "    def __init__(self, nom: str):\n",
    "        self._nom = nom\n",
    "        \n",
    "    @property\n",
    "    def nom(self):\n",
    "        return self._nom\n",
    "    \n",
    "    @nom.setter\n",
    "    def nom(self, nouveau_nom):\n",
    "        if not nouveau_nom.strip():\n",
    "            raise ValueError(\"Nom invlide\")\n",
    "        self._nom = nouveau_nom\n",
    "    \n",
    "    @nom.deleter\n",
    "    def nom(self):\n",
    "        print(\"Suppression du nom...\")\n",
    "        del self._nom\n",
    "# Utilisation\n",
    "e = Employe(\"Emy\")\n",
    "print(e.nom) # getter\n",
    "e.nom = \"Sam\" # setter\n",
    "del e.nom       #deleter"
   ]
  },
  {
   "cell_type": "code",
   "execution_count": 5,
   "id": "6fd03ce0",
   "metadata": {},
   "outputs": [
    {
     "name": "stdout",
     "output_type": "stream",
     "text": [
      "20\n",
      "314.1592653589793\n",
      "78.53981633974483\n"
     ]
    }
   ],
   "source": [
    "class Cercle:\n",
    "    def __init__(self, rayon):\n",
    "        self.rayon = rayon\n",
    "\n",
    "    @property\n",
    "    def diametre(self):\n",
    "        return self.rayon * 2\n",
    "\n",
    "    @property\n",
    "    def aire(self):\n",
    "        import math\n",
    "        return math.pi * (self.rayon ** 2)\n",
    "\n",
    "\n",
    "# --- Utilisation ---\n",
    "c = Cercle(10)\n",
    "print(c.diametre)  # 20\n",
    "print(c.aire)      # 314.15...\n",
    "c.rayon = 5\n",
    "print(c.aire)      # 78.5... (recalculé automatiquement)"
   ]
  }
 ],
 "metadata": {
  "kernelspec": {
   "display_name": "Python 3",
   "language": "python",
   "name": "python3"
  },
  "language_info": {
   "codemirror_mode": {
    "name": "ipython",
    "version": 3
   },
   "file_extension": ".py",
   "mimetype": "text/x-python",
   "name": "python",
   "nbconvert_exporter": "python",
   "pygments_lexer": "ipython3",
   "version": "3.12.0"
  }
 },
 "nbformat": 4,
 "nbformat_minor": 5
}
