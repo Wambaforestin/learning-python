{
 "cells": [
  {
   "cell_type": "markdown",
   "id": "11782e2d",
   "metadata": {},
   "source": [
    "# Programme pratique - Python"
   ]
  },
  {
   "cell_type": "markdown",
   "id": "df3945bd",
   "metadata": {},
   "source": [
    "### Programme basic"
   ]
  },
  {
   "cell_type": "code",
   "execution_count": 32,
   "id": "05fab999",
   "metadata": {},
   "outputs": [
    {
     "name": "stdout",
     "output_type": "stream",
     "text": [
      "The area of the triangle is  84.00 meters sqaured\n"
     ]
    }
   ],
   "source": [
    "# Write a Python program to calculate the area of a rectangle given its length and width\n",
    "length = 14\n",
    "width = 6\n",
    "print(f\"The area of the triangle is {length*width: .2f} meters sqaured\")"
   ]
  },
  {
   "cell_type": "code",
   "execution_count": 33,
   "id": "a927ec92",
   "metadata": {},
   "outputs": [
    {
     "name": "stdout",
     "output_type": "stream",
     "text": [
      "Greetings Nicolas, learning python is like giving your life to Christ even at 18. Good luck in your jounney!\n"
     ]
    }
   ],
   "source": [
    "# Create a program that takes a user's name and age as input and prints a greeting message\n",
    "user_name = str(input(\"Enter your name : \"))\n",
    "user_age = int(input(\"Enter your age :\"))\n",
    "\n",
    "print(f\"Greetings {user_name}, learning python is like giving your life to Christ even at {user_age}. Good luck in your jounney!\")"
   ]
  },
  {
   "cell_type": "code",
   "execution_count": 34,
   "id": "5e5b0f36",
   "metadata": {},
   "outputs": [
    {
     "name": "stdout",
     "output_type": "stream",
     "text": [
      "64 is even\n"
     ]
    }
   ],
   "source": [
    "# Write a program to check if a number is even or odd\n",
    "import random\n",
    "\n",
    "num = random.randint(0, 70)\n",
    "\n",
    "print(f\"{num} is even\") if num%2 == 0 else print(f\"{num} is odd\")"
   ]
  },
  {
   "cell_type": "code",
   "execution_count": 42,
   "id": "cea71c99",
   "metadata": {},
   "outputs": [
    {
     "name": "stdout",
     "output_type": "stream",
     "text": [
      "The maximum and minimum values are 78 and -100 respectively\n",
      "The maximum and minimum values are 78 and -100 respectively\n",
      "The maximum and minimum values are -1 and -100 respectively\n"
     ]
    }
   ],
   "source": [
    "# Given a list of numbers, find the maximum and minimum values\n",
    "numbers = [-1, 55, 4, 5, 78, 63, -15, 20, -39, -100]\n",
    "\n",
    "# method 1\n",
    "print(f\"The maximum and minimum values are {max(numbers)} and {min(numbers)} respectively\")\n",
    "\n",
    "# method 2\n",
    "bigger = numbers[0]\n",
    "smaller = numbers[0]\n",
    "for num in numbers:\n",
    "    if num > bigger:\n",
    "        bigger = num\n",
    "    if num < smaller:\n",
    "        smaller = num\n",
    "print(f\"The maximum and minimum values are {bigger} and {smaller} respectively\")\n",
    "\n",
    "# method 3\n",
    "sorted_numbers = sorted(numbers)\n",
    "print(f\"The maximum and minimum values are {numbers[0]} and {numbers[-1]} respectively\")\n"
   ]
  },
  {
   "cell_type": "code",
   "execution_count": null,
   "id": "9e3605ba",
   "metadata": {},
   "outputs": [
    {
     "name": "stdout",
     "output_type": "stream",
     "text": [
      "radar is a palindrome\n",
      "notamment isn't a palindrome\n"
     ]
    }
   ],
   "source": [
    "# Create a Python function to check if a given string is a palindrome\n",
    "def is_palindrome(word : str) -> bool:\n",
    "    return word == word[::-1]\n",
    "\n",
    "word_one = \"radar\"\n",
    "word_two = \"notamment\"\n",
    "\n",
    "print(f\"{word_one} is a palindrome\") if is_palindrome(word_one) else print(f\"{word_one} isn't a palindrome\")\n",
    "print(f\"{word_two} is a palindrome\") if is_palindrome(word_two) else print(f\"{word_two} isn't a palindrome\")"
   ]
  },
  {
   "cell_type": "code",
   "execution_count": 4,
   "id": "0fce815c",
   "metadata": {},
   "outputs": [
    {
     "name": "stdout",
     "output_type": "stream",
     "text": [
      "The sum is all positive integer is : 256\n",
      "The sum is all positive integer is : 256\n"
     ]
    }
   ],
   "source": [
    "# Given a list of integers, find the sum of all positive numbers\n",
    "integers = [17, 100, -8, 61, -47, 78]\n",
    "# method 1\n",
    "def remove_negative(integers: list) -> list:\n",
    "    for a in integers:\n",
    "        if a < 0:\n",
    "            integers.remove(a)\n",
    "    return integers\n",
    "\n",
    "print(f\"The sum is all positive integer is : {sum(remove_negative(integers=integers))}\")\n",
    "\n",
    "# method 2\n",
    "positive_integers = []\n",
    "for a in integers:\n",
    "    if a > 0:\n",
    "        positive_integers.append(a)\n",
    "print(f\"The sum is all positive integer is : {sum(positive_integers)}\")"
   ]
  },
  {
   "cell_type": "code",
   "execution_count": 11,
   "id": "b185dd74",
   "metadata": {},
   "outputs": [
    {
     "name": "stdout",
     "output_type": "stream",
     "text": [
      "The number of words in 'Do you want me to show you a version where try/except is genuinely useful (like if the user enters numbers instead of a sentence)?'is 24\n",
      "The number of words in 'Do you want me to show you a version where try/except is genuinely useful (like if the user enters numbers instead of a sentence)?'is 24\n"
     ]
    }
   ],
   "source": [
    "# Create a program that takes a sentence as input and counts the number of words in it\n",
    "import string\n",
    "# method 1\n",
    "def remove_punctuation(sent:str) -> list:\n",
    "    for var in sent.lower().split():\n",
    "        for var2 in string.punctuation:\n",
    "            if var == var2:\n",
    "                sent.split().remove(var)\n",
    "    return sent.split()\n",
    "# method 2\n",
    "def remove_punctuation_new(sent: str) -> list:\n",
    "    return \"\".join([ch for ch in sent.lower() if ch not in string.punctuation]).split()\n",
    "\n",
    "sentence = str(input(\"Enter a sentence and i will give you the number of words it contains : \"))\n",
    "\n",
    "print(f\"The number of words in '{sentence}'is {len(remove_punctuation(sentence))}\")\n",
    "print(f\"The number of words in '{sentence}'is {len(remove_punctuation_new(sentence))}\")"
   ]
  },
  {
   "cell_type": "code",
   "execution_count": 14,
   "id": "a8083499",
   "metadata": {},
   "outputs": [
    {
     "name": "stdout",
     "output_type": "stream",
     "text": [
      "The average and the sum are  64.00 and 256 respectively\n",
      "The average and the sum are 64 and 256 respectively\n",
      "The average and the sum are 64.0 and 256 respectively\n"
     ]
    }
   ],
   "source": [
    "# Given a list of numbers, find the sum and average\n",
    "import statistics\n",
    "import numpy\n",
    "\n",
    "# method 1\n",
    "print(f\"The average and the sum are {sum(integers)/len(integers): .2f} and {sum(integers)} respectively\")\n",
    "\n",
    "# method 2\n",
    "print(f\"The average and the sum are {statistics.mean(integers)} and {sum(integers)} respectively\")\n",
    "\n",
    "# method 3\n",
    "print(f\"The average and the sum are {numpy.mean(integers)} and {sum(integers)} respectively\")\n"
   ]
  },
  {
   "cell_type": "code",
   "execution_count": null,
   "id": "679d7494",
   "metadata": {},
   "outputs": [],
   "source": [
    "# Given a list of names, concatenate them into a single string separated by spaces\n",
    "names = [\"Sarah\", \"Florian\", \"Hugo\", \"Bastien\", \"Simone\", \"Ilyas\", \"Tom\"]\n",
    "new_name = "
   ]
  }
 ],
 "metadata": {
  "kernelspec": {
   "display_name": "Python 3",
   "language": "python",
   "name": "python3"
  },
  "language_info": {
   "codemirror_mode": {
    "name": "ipython",
    "version": 3
   },
   "file_extension": ".py",
   "mimetype": "text/x-python",
   "name": "python",
   "nbconvert_exporter": "python",
   "pygments_lexer": "ipython3",
   "version": "3.12.0"
  }
 },
 "nbformat": 4,
 "nbformat_minor": 5
}
