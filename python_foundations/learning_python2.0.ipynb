{
 "cells": [
  {
   "cell_type": "markdown",
   "id": "11782e2d",
   "metadata": {},
   "source": [
    "# Programme pratique - Python"
   ]
  },
  {
   "cell_type": "markdown",
   "id": "df3945bd",
   "metadata": {},
   "source": [
    "### Programme basic"
   ]
  },
  {
   "cell_type": "code",
   "execution_count": 32,
   "id": "05fab999",
   "metadata": {},
   "outputs": [
    {
     "name": "stdout",
     "output_type": "stream",
     "text": [
      "The area of the triangle is  84.00 meters sqaured\n"
     ]
    }
   ],
   "source": [
    "# Write a Python program to calculate the area of a rectangle given its length and width\n",
    "length = 14\n",
    "width = 6\n",
    "print(f\"The area of the triangle is {length*width: .2f} meters sqaured\")"
   ]
  },
  {
   "cell_type": "code",
   "execution_count": 33,
   "id": "a927ec92",
   "metadata": {},
   "outputs": [
    {
     "name": "stdout",
     "output_type": "stream",
     "text": [
      "Greetings Nicolas, learning python is like giving your life to Christ even at 18. Good luck in your jounney!\n"
     ]
    }
   ],
   "source": [
    "# Create a program that takes a user's name and age as input and prints a greeting message\n",
    "user_name = str(input(\"Enter your name : \"))\n",
    "user_age = int(input(\"Enter your age :\"))\n",
    "\n",
    "print(f\"Greetings {user_name}, learning python is like giving your life to Christ even at {user_age}. Good luck in your jounney!\")"
   ]
  },
  {
   "cell_type": "code",
   "execution_count": 34,
   "id": "5e5b0f36",
   "metadata": {},
   "outputs": [
    {
     "name": "stdout",
     "output_type": "stream",
     "text": [
      "64 is even\n"
     ]
    }
   ],
   "source": [
    "# Write a program to check if a number is even or odd\n",
    "import random\n",
    "\n",
    "num = random.randint(0, 70)\n",
    "\n",
    "print(f\"{num} is even\") if num%2 == 0 else print(f\"{num} is odd\")"
   ]
  },
  {
   "cell_type": "code",
   "execution_count": 42,
   "id": "cea71c99",
   "metadata": {},
   "outputs": [
    {
     "name": "stdout",
     "output_type": "stream",
     "text": [
      "The maximum and minimum values are 78 and -100 respectively\n",
      "The maximum and minimum values are 78 and -100 respectively\n",
      "The maximum and minimum values are -1 and -100 respectively\n"
     ]
    }
   ],
   "source": [
    "# Given a list of numbers, find the maximum and minimum values\n",
    "numbers = [-1, 55, 4, 5, 78, 63, -15, 20, -39, -100]\n",
    "\n",
    "# method 1\n",
    "print(f\"The maximum and minimum values are {max(numbers)} and {min(numbers)} respectively\")\n",
    "\n",
    "# method 2\n",
    "bigger = numbers[0]\n",
    "smaller = numbers[0]\n",
    "for num in numbers:\n",
    "    if num > bigger:\n",
    "        bigger = num\n",
    "    if num < smaller:\n",
    "        smaller = num\n",
    "print(f\"The maximum and minimum values are {bigger} and {smaller} respectively\")\n",
    "\n",
    "# method 3\n",
    "sorted_numbers = sorted(numbers)\n",
    "print(f\"The maximum and minimum values are {numbers[0]} and {numbers[-1]} respectively\")\n"
   ]
  },
  {
   "cell_type": "code",
   "execution_count": null,
   "id": "9e3605ba",
   "metadata": {},
   "outputs": [
    {
     "name": "stdout",
     "output_type": "stream",
     "text": [
      "radar is a palindrome\n",
      "notamment isn't a palindrome\n"
     ]
    }
   ],
   "source": [
    "# Create a Python function to check if a given string is a palindrome\n",
    "def is_palindrome(word : str) -> bool:\n",
    "    return word == word[::-1]\n",
    "\n",
    "word_one = \"radar\"\n",
    "word_two = \"notamment\"\n",
    "\n",
    "print(f\"{word_one} is a palindrome\") if is_palindrome(word_one) else print(f\"{word_one} isn't a palindrome\")\n",
    "print(f\"{word_two} is a palindrome\") if is_palindrome(word_two) else print(f\"{word_two} isn't a palindrome\")"
   ]
  },
  {
   "cell_type": "code",
   "execution_count": 4,
   "id": "0fce815c",
   "metadata": {},
   "outputs": [
    {
     "name": "stdout",
     "output_type": "stream",
     "text": [
      "The sum is all positive integer is : 256\n",
      "The sum is all positive integer is : 256\n"
     ]
    }
   ],
   "source": [
    "# Given a list of integers, find the sum of all positive numbers\n",
    "integers = [17, 100, -8, 61, -47, 78]\n",
    "# method 1\n",
    "def remove_negative(integers: list) -> list:\n",
    "    for a in integers:\n",
    "        if a < 0:\n",
    "            integers.remove(a)\n",
    "    return integers\n",
    "\n",
    "print(f\"The sum is all positive integer is : {sum(remove_negative(integers=integers))}\")\n",
    "\n",
    "# method 2\n",
    "positive_integers = []\n",
    "for a in integers:\n",
    "    if a > 0:\n",
    "        positive_integers.append(a)\n",
    "print(f\"The sum is all positive integer is : {sum(positive_integers)}\")"
   ]
  },
  {
   "cell_type": "code",
   "execution_count": 11,
   "id": "b185dd74",
   "metadata": {},
   "outputs": [
    {
     "name": "stdout",
     "output_type": "stream",
     "text": [
      "The number of words in 'Do you want me to show you a version where try/except is genuinely useful (like if the user enters numbers instead of a sentence)?'is 24\n",
      "The number of words in 'Do you want me to show you a version where try/except is genuinely useful (like if the user enters numbers instead of a sentence)?'is 24\n"
     ]
    }
   ],
   "source": [
    "# Create a program that takes a sentence as input and counts the number of words in it\n",
    "import string\n",
    "# method 1\n",
    "def remove_punctuation(sent:str) -> list:\n",
    "    for var in sent.lower().split():\n",
    "        for var2 in string.punctuation:\n",
    "            if var == var2:\n",
    "                sent.split().remove(var)\n",
    "    return sent.split()\n",
    "# method 2\n",
    "def remove_punctuation_new(sent: str) -> list:\n",
    "    return \"\".join([ch for ch in sent.lower() if ch not in string.punctuation]).split()\n",
    "\n",
    "sentence = str(input(\"Enter a sentence and i will give you the number of words it contains : \"))\n",
    "\n",
    "print(f\"The number of words in '{sentence}'is {len(remove_punctuation(sentence))}\")\n",
    "print(f\"The number of words in '{sentence}'is {len(remove_punctuation_new(sentence))}\")"
   ]
  },
  {
   "cell_type": "code",
   "execution_count": 14,
   "id": "a8083499",
   "metadata": {},
   "outputs": [
    {
     "name": "stdout",
     "output_type": "stream",
     "text": [
      "The average and the sum are  64.00 and 256 respectively\n",
      "The average and the sum are 64 and 256 respectively\n",
      "The average and the sum are 64.0 and 256 respectively\n"
     ]
    }
   ],
   "source": [
    "# Given a list of numbers, find the sum and average\n",
    "import statistics\n",
    "import numpy\n",
    "\n",
    "# method 1\n",
    "print(f\"The average and the sum are {sum(integers)/len(integers): .2f} and {sum(integers)} respectively\")\n",
    "\n",
    "# method 2\n",
    "print(f\"The average and the sum are {statistics.mean(integers)} and {sum(integers)} respectively\")\n",
    "\n",
    "# method 3\n",
    "print(f\"The average and the sum are {numpy.mean(integers)} and {sum(integers)} respectively\")\n"
   ]
  },
  {
   "cell_type": "code",
   "execution_count": 29,
   "id": "679d7494",
   "metadata": {},
   "outputs": [
    {
     "name": "stdout",
     "output_type": "stream",
     "text": [
      "Ouput: Sarah Florian Hugo Bastien Simone Ilyas Tom Amanda\n"
     ]
    }
   ],
   "source": [
    "# Given a list of names, concatenate them into a single string separated by spaces\n",
    "names = [\"Sarah\", \"Florian\", \"Hugo\", \"Bastien\", \"Simone\", \"Ilyas\", \"Tom\", \"Amanda\"]\n",
    "new_name = \" \".join(names)\n",
    "print(f\"Ouput: {new_name}\")"
   ]
  },
  {
   "cell_type": "code",
   "execution_count": 26,
   "id": "9c60e55a",
   "metadata": {},
   "outputs": [
    {
     "name": "stdout",
     "output_type": "stream",
     "text": [
      "True\n",
      "True\n",
      "False\n"
     ]
    }
   ],
   "source": [
    "# Write a Python program to check if a given string is a pangram (contains all letters of the alphabet)\n",
    "import string\n",
    "letters = list(string.ascii_lowercase)\n",
    "\n",
    "pangram1 = \"The quick brown fox jumps over the lazy dog\"\n",
    "pangram2 = \"Pack my box with five dozen liquor jugs\"\n",
    "not_pangram = \"Hello world\"\n",
    "\n",
    "def check_pangram(sent: str) -> bool:\n",
    "    cleaned = [ch.lower() for ch in sent if ch.isalpha()]\n",
    "    unique_letters = sorted(list(set(cleaned)))\n",
    "    # compare with full alphabet\n",
    "    return unique_letters == letters\n",
    "\n",
    "print(check_pangram(pangram1))      \n",
    "print(check_pangram(pangram2))      \n",
    "print(check_pangram(not_pangram))   "
   ]
  },
  {
   "cell_type": "code",
   "execution_count": null,
   "id": "75cf1c05",
   "metadata": {},
   "outputs": [
    {
     "name": "stdout",
     "output_type": "stream",
     "text": [
      "The word hello has 2 vowels\n"
     ]
    }
   ],
   "source": [
    "#  Create a function to count the number of vowels in a given string\n",
    "import string\n",
    "\n",
    "vowels = [\"a\", \"e\", \"i\", \"o\", \"u\"]\n",
    "\n",
    "word = input(\"Enter a word of your choice :\")\n",
    "cleaned = list(set(word.strip())) # assuming here that we don't want to count duplicated vowels \n",
    "# otherwise use cleaned = word.strip().split()\n",
    "\n",
    "count = 0\n",
    "for ch in vowels:\n",
    "    for ch1  in cleaned:\n",
    "        if ch == ch1:\n",
    "            count+=1\n",
    "# method 2 : count = sum(1 for ch in cleaned if ch in vowels)\n",
    "\n",
    "print(f\"The word {word} has {count} vowels\")"
   ]
  },
  {
   "cell_type": "code",
   "execution_count": null,
   "id": "3d25d102",
   "metadata": {},
   "outputs": [
    {
     "name": "stdout",
     "output_type": "stream",
     "text": [
      "None\n",
      "None\n",
      "None\n",
      "None\n",
      "None\n",
      "None\n",
      "None\n",
      "Amanda\n"
     ]
    }
   ],
   "source": [
    "# Given a list of names, print all names starting with the letter 'A'\n",
    "for name in names:\n",
    "    print(f\"{name}\") if name[0] == \"A\" else print(None)"
   ]
  },
  {
   "cell_type": "code",
   "execution_count": null,
   "id": "e66609f1",
   "metadata": {},
   "outputs": [
    {
     "name": "stdout",
     "output_type": "stream",
     "text": [
      "1 x 10 = 10\n",
      "2 x 10 = 20\n",
      "3 x 10 = 30\n",
      "4 x 10 = 40\n",
      "5 x 10 = 50\n",
      "6 x 10 = 60\n",
      "7 x 10 = 70\n",
      "8 x 10 = 80\n",
      "9 x 10 = 90\n",
      "10 x 10 = 100\n"
     ]
    }
   ],
   "source": [
    "#  Implement a program that prints the multiplication table of a given number\n",
    "num = int(input(\"Enter a number and i will give you its mutiplication table: \"))\n",
    "\n",
    "# method 1\n",
    "multiplyer = 1\n",
    "while 1: # this statement is always true\n",
    "    print(f\"{multiplyer} x {num} = {multiplyer * num}\")\n",
    "    multiplyer+=1\n",
    "    if multiplyer == 11:\n",
    "        break\n",
    "    \n",
    "# method 2\n",
    "for multiplier in range(1, 11):   # 1 to 10\n",
    "    print(f\"{multiplier} x {num} = {multiplier * num}\")"
   ]
  },
  {
   "cell_type": "code",
   "execution_count": null,
   "id": "65e67f9a",
   "metadata": {},
   "outputs": [
    {
     "name": "stdout",
     "output_type": "stream",
     "text": [
      "The list of word ['lion', 'tiger', 'bear']\n",
      "{'lion': 4, 'tiger': 5, 'bear': 4}\n",
      "Output: 0\n",
      "Words with more than five characters: []\n"
     ]
    }
   ],
   "source": [
    "# Given a list of words, count the number of words with more than five characters\n",
    "print(f\"The list of word {names}\")\n",
    "# method 1\n",
    "counter = 0\n",
    "my_dict = {}\n",
    "for c in names:\n",
    "    my_dict[c] = len(c)\n",
    "print(my_dict)\n",
    "for value in my_dict.values():\n",
    "    if value > 5:\n",
    "        counter+=1\n",
    "print(f\"Output: {counter}\")\n",
    "\n",
    "# method 2\n",
    "def count_number_of_words_with_more_than_5_chs(word):\n",
    "    if len(word) > 5:\n",
    "        return word\n",
    "    else:\n",
    "        return None \n",
    "\n",
    "words_with_more_than_five_chars = list(filter(None, map(count_number_of_words_with_more_than_5_chs, names))) #filtering out the None value\n",
    "print(f\"Words with more than five characters: {words_with_more_than_five_chars}\")"
   ]
  },
  {
   "cell_type": "code",
   "execution_count": null,
   "id": "faa028c0",
   "metadata": {},
   "outputs": [
    {
     "name": "stdout",
     "output_type": "stream",
     "text": [
      "The total is: 18\n",
      "The total is: 18\n"
     ]
    }
   ],
   "source": [
    "# Calculate the sum of digits of a given number\n",
    "number = 459\n",
    "# method 1\n",
    "total = 0\n",
    "for digit in str(number): # Type casting\n",
    "    total = total + int(digit)  # type casting\n",
    "print(f\"The total is: {total}\")\n",
    "\n",
    "del sum # I did this because i used the sum() method as a variable, as a result overwriting Python's built-in function.\n",
    "# To corret my mistake i changed from sum to totlal, a seen on line 4.\n",
    "\n",
    "# method 2\n",
    "total = sum(int(digit) for digit in str(number))\n",
    "print(f\"The total is: {total}\")"
   ]
  },
  {
   "cell_type": "code",
   "execution_count": null,
   "id": "882879ea",
   "metadata": {},
   "outputs": [
    {
     "name": "stdout",
     "output_type": "stream",
     "text": [
      "The two list: ['lion', 'tiger', 'bear'] and ['apple', 'banana', 'cherry', 'dog', 'elephant', 'frog', 'grape', 'house', 'island', 'jungle']\n",
      "apple banana bear cherry dog elephant frog grape house island jungle lion tiger\n"
     ]
    }
   ],
   "source": [
    "# Given a list of words, concatenate them into a single string separated by spaces\n",
    "my_list = [\"apple\",\"banana\",\"cherry\",\"dog\",\"elephant\",\"frog\",\"grape\",\"house\",\"island\",\"jungle\"]\n",
    "names = ['lion', 'tiger', 'bear']\n",
    "print(f\"The two list: {names} and {my_list}\")\n",
    "\n",
    "# method 1\n",
    "def single_string(list1: list, list2: list) -> str:\n",
    "    \"\"\"_summary_\n",
    "\n",
    "    Args:\n",
    "        list1 (list): first list\n",
    "        list2 (list): second list\n",
    "\n",
    "    Returns:\n",
    "        str: output single string\n",
    "    \"\"\"\n",
    "    merged = list1 + list2\n",
    "    return \" \".join(sorted(merged))\n",
    "\n",
    "print(single_string(my_list, names))"
   ]
  },
  {
   "cell_type": "code",
   "execution_count": null,
   "id": "b96c573e",
   "metadata": {},
   "outputs": [
    {
     "name": "stdout",
     "output_type": "stream",
     "text": [
      "charte\n",
      "The final word without duplicates is: charte\n"
     ]
    }
   ],
   "source": [
    "# Write a function to remove all duplicate characters from a given string\n",
    "word = \"character\"\n",
    "list_word = list(word)\n",
    "# method 1\n",
    "result = \"\".join(dict.fromkeys(word))\n",
    "print(result)\n",
    "\n",
    "# method 2\n",
    "result2 = \"\"\n",
    "for element in word:\n",
    "    if element not in result2:  # only add once here\n",
    "        result2 += element\n",
    "\n",
    "print(f\"The final word without duplicates is: {result2}\")"
   ]
  },
  {
   "cell_type": "code",
   "execution_count": 138,
   "id": "bd98a96b",
   "metadata": {},
   "outputs": [
    {
     "name": "stdout",
     "output_type": "stream",
     "text": [
      "['dog', 'cat', 'apple', 'banana', 'elephant']\n"
     ]
    }
   ],
   "source": [
    "# Create a function that takes a list of strings and returns the list sorted by the length of the strings\n",
    "def sort_by_length(strings: list) -> list:\n",
    "    return sorted(strings, key=len)\n",
    "\n",
    "words = [\"apple\", \"banana\", \"dog\", \"elephant\", \"cat\"]\n",
    "print(sort_by_length(words))\n"
   ]
  },
  {
   "cell_type": "code",
   "execution_count": null,
   "id": "854ad8db",
   "metadata": {},
   "outputs": [
    {
     "name": "stdout",
     "output_type": "stream",
     "text": [
      "List is not sorted in ascending order\n"
     ]
    }
   ],
   "source": [
    "# Write a program that checks if a given list is sorted in ascending order\n",
    "\n",
    "original_list = names\n",
    "if original_list == sorted(original_list):\n",
    "    print(\"List is sorted in ascending order\")\n",
    "else:\n",
    "    print(\"List is not sorted in ascending order\")\n",
    "# so here I've assumed sorting in alphabetical ord er by default"
   ]
  },
  {
   "cell_type": "code",
   "execution_count": 191,
   "id": "0781b594",
   "metadata": {},
   "outputs": [
    {
     "name": "stdout",
     "output_type": "stream",
     "text": [
      "range(0, 10)\n"
     ]
    }
   ],
   "source": [
    "# Create a liste with values ranging from 0 to 9\n",
    "my_list = range(10)\n",
    "print(my_list)"
   ]
  },
  {
   "cell_type": "code",
   "execution_count": 192,
   "id": "f829aa24",
   "metadata": {},
   "outputs": [
    {
     "name": "stdout",
     "output_type": "stream",
     "text": [
      "The list of stings is ['17', '100', '61', '78']\n"
     ]
    }
   ],
   "source": [
    "# Convert all list of intergers to a list of strings\n",
    "my_list_of_strings = list(map(str, integers))\n",
    "print(f\"The list of stings is {my_list_of_strings}\")"
   ]
  },
  {
   "cell_type": "code",
   "execution_count": 193,
   "id": "beb374cc",
   "metadata": {},
   "outputs": [
    {
     "name": "stdout",
     "output_type": "stream",
     "text": [
      "The list of elements multiplied by two: [34, 200, 122, 156]\n"
     ]
    }
   ],
   "source": [
    "# multiply all elements in a list by 2.\n",
    "my_list_doubled = [x*2 for x in integers]\n",
    "print(f\"The list of elements multiplied by two: {my_list_doubled}\")"
   ]
  },
  {
   "cell_type": "code",
   "execution_count": 194,
   "id": "0cd3847c",
   "metadata": {},
   "outputs": [
    {
     "name": "stdout",
     "output_type": "stream",
     "text": [
      "List without odd numbers: [100, 78]\n"
     ]
    }
   ],
   "source": [
    "# Extract all odd numbers from a list of integers\n",
    "my_list_of_without_odd = [x for x in integers if x % 2 == 0]\n",
    "print(f\"List without odd numbers: {my_list_of_without_odd}\")"
   ]
  },
  {
   "cell_type": "code",
   "execution_count": 195,
   "id": "61ad5e44",
   "metadata": {},
   "outputs": [
    {
     "name": "stdout",
     "output_type": "stream",
     "text": [
      "The list with odd number replaced with -1: [-1, 100, -1, 78]\n"
     ]
    }
   ],
   "source": [
    "# Replace all odd numbers in a list with -1\n",
    "my_list_with_neg_one_as_odd = [-1 if x % 2 != 0 else x for x in integers]\n",
    "print(f\"The list with odd number replaced with -1: {my_list_with_neg_one_as_odd}\")"
   ]
  },
  {
   "cell_type": "code",
   "execution_count": 196,
   "id": "f483fba4",
   "metadata": {},
   "outputs": [
    {
     "name": "stdout",
     "output_type": "stream",
     "text": [
      "The list of booleans is: [1, 1, 1, 1] and [True, True, True, True]\n"
     ]
    }
   ],
   "source": [
    "# Convert a list of integers to a list of booleans where all non-zero values become True.\n",
    "my_list_of_bool = [1 if x > 0 else 0 for x in integers] # method 1\n",
    "my_list_of_bool_mthod_2 = [bool(x) for x in integers] # method 2\n",
    "print(f\"The list of booleans is: {my_list_of_bool} and {my_list_of_bool_mthod_2}\")\n"
   ]
  },
  {
   "cell_type": "code",
   "execution_count": 197,
   "id": "629944d0",
   "metadata": {},
   "outputs": [
    {
     "name": "stdout",
     "output_type": "stream",
     "text": [
      "The list of numbers of the negatives of the even numbers: [17, -100, 61, -78]\n"
     ]
    }
   ],
   "source": [
    "# Replace all even numbers in a list with thier negative\n",
    "my_list_negatives = [-x if x % 2 == 0 else x for x in integers]\n",
    "print(f\"The list of numbers of the negatives of the even numbers: {my_list_negatives}\")"
   ]
  },
  {
   "cell_type": "code",
   "execution_count": 198,
   "id": "6635702e",
   "metadata": {},
   "outputs": [
    {
     "name": "stdout",
     "output_type": "stream",
     "text": [
      "[0, 1, 2, 3]\n"
     ]
    }
   ],
   "source": [
    "# Find the indices of non-zero elements in a list\n",
    "non_zero_indices = [index for index, value in enumerate(integers)]\n",
    "print(non_zero_indices)"
   ]
  },
  {
   "cell_type": "code",
   "execution_count": 199,
   "id": "5bd6902f",
   "metadata": {},
   "outputs": [
    {
     "name": "stdout",
     "output_type": "stream",
     "text": [
      "[78, 61, 100, 17]\n"
     ]
    }
   ],
   "source": [
    "# Reverse a list\n",
    "my_list_reversed = integers[::-1]\n",
    "print(my_list_reversed)"
   ]
  },
  {
   "cell_type": "code",
   "execution_count": 200,
   "id": "a2abc249",
   "metadata": {},
   "outputs": [
    {
     "name": "stdout",
     "output_type": "stream",
     "text": [
      "The stacked list is: [[1, 1, 1, 1], [True, True, True, True]]\n"
     ]
    }
   ],
   "source": [
    "# Stack two list together\n",
    "stacked_list =[my_list_of_bool, my_list_of_bool_mthod_2]\n",
    "print(f\"The stacked list is: {stacked_list}\")"
   ]
  },
  {
   "cell_type": "code",
   "execution_count": 201,
   "id": "49a734af",
   "metadata": {},
   "outputs": [
    {
     "name": "stdout",
     "output_type": "stream",
     "text": [
      "The common items in [100, 78] and [-1, 100, -1, 78] are [100, 78]\n",
      "The common items in [100, 78] and [-1, 100, -1, 78] are [100, 78]\n",
      "The common items in [100, 78] and [-1, 100, -1, 78] are [100, 78]\n"
     ]
    }
   ],
   "source": [
    "# Get the common items betweenn two lists\n",
    "# method 1\n",
    "my_set1 = set(my_list_of_without_odd)\n",
    "my_set2 = set(my_list_with_neg_one_as_odd)\n",
    "common_items = my_set1.intersection(my_set2)\n",
    "print(f\"The common items in {my_list_of_without_odd} and {my_list_with_neg_one_as_odd} are {list(common_items)}\")\n",
    "# method 2\n",
    "common_items2 = []\n",
    "for a in my_list_of_without_odd:\n",
    "    for b in my_list_with_neg_one_as_odd:\n",
    "        if a == b:\n",
    "            common_items2.append(a)\n",
    "print(f\"The common items in {my_list_of_without_odd} and {my_list_with_neg_one_as_odd} are {list(common_items2)}\")\n",
    "# method 3\n",
    "common_items3 = list(set(my_list_of_without_odd) & set(my_list_with_neg_one_as_odd))\n",
    "print(f\"The common items in {my_list_of_without_odd} and {my_list_with_neg_one_as_odd} are {list(common_items3)}\")"
   ]
  },
  {
   "cell_type": "code",
   "execution_count": 202,
   "id": "c9ed742a",
   "metadata": {},
   "outputs": [
    {
     "name": "stdout",
     "output_type": "stream",
     "text": [
      "[[0, 1, 2, 3, 4], [0, 1, 2, 3, 4], [0, 1, 2, 3, 4], [0, 1, 2, 3, 4], [0, 1, 2, 3, 4]]\n"
     ]
    }
   ],
   "source": [
    "# Create a 5x5 list of lists with row values ranging from 0 to 4.\n",
    "matrix = [[i for i in range(5)] for _ in range(5)]\n",
    "print(matrix)"
   ]
  },
  {
   "cell_type": "code",
   "execution_count": 203,
   "id": "739eefd8",
   "metadata": {},
   "outputs": [
    {
     "name": "stdout",
     "output_type": "stream",
     "text": [
      "The index of the max item in [17, 100, 61, 78] is 1\n"
     ]
    }
   ],
   "source": [
    "# Find the index of the maximum value in a list.\n",
    "max_item_in_list = max(integers)\n",
    "print(f\"The index of the max item in {integers} is {integers.index(max_item_in_list)}\")"
   ]
  },
  {
   "cell_type": "code",
   "execution_count": 204,
   "id": "ea15bf26",
   "metadata": {},
   "outputs": [
    {
     "name": "stdout",
     "output_type": "stream",
     "text": [
      "The normalized list is: [0.0, 1.0, 0.5301204819277109, 0.7349397590361446]\n"
     ]
    }
   ],
   "source": [
    "# Normalize the values in a list between 0 and 1\n",
    "# Normalizing a list means : Scaling all the numbers so that the smallest value becomes 0 and the largest value becomes 1, with everything else scaled proportionally in between. This is generally used in Data science.\n",
    "min_val, max_val = min(integers), max(integers)\n",
    "normalized_list = [(x - min_val) / (max_val - min_val) for x in integers]\n",
    "print(f\"The normalized list is: {normalized_list}\")"
   ]
  },
  {
   "cell_type": "code",
   "execution_count": 205,
   "id": "67e69306",
   "metadata": {},
   "outputs": [
    {
     "name": "stdout",
     "output_type": "stream",
     "text": [
      "32\n"
     ]
    }
   ],
   "source": [
    "# Calculate the dot product of two lists\n",
    "lst1 = [1, 2, 3]\n",
    "lst2 = [4, 5, 6]\n",
    "dot_product = sum(x * y for x, y in zip(lst1, lst2)) # the zip function combines elements from two (or more) iterables\n",
    "print(dot_product)"
   ]
  },
  {
   "cell_type": "code",
   "execution_count": 206,
   "id": "9ff7f1b4",
   "metadata": {},
   "outputs": [
    {
     "name": "stdout",
     "output_type": "stream",
     "text": [
      "The sum is of element in the range [17, 100, 61] from [17, 100, 61, 78]: 178\n",
      "1\n"
     ]
    }
   ],
   "source": [
    "# Count the number of elements in a list within a specific range.\n",
    "sum_of_elements = sum(integers[:3])\n",
    "print(f\"The sum is of element in the range {integers[:3]} from {integers}: {sum_of_elements}\")\n",
    "# OR \n",
    "count_within_range = sum(5 <= x <= 50 for x in integers)\n",
    "print(count_within_range)"
   ]
  },
  {
   "cell_type": "code",
   "execution_count": 207,
   "id": "1a68a1ca",
   "metadata": {},
   "outputs": [
    {
     "name": "stdout",
     "output_type": "stream",
     "text": [
      "3\n"
     ]
    }
   ],
   "source": [
    "# Count the number of occurrences of a specific value in a list.\n",
    "lst = [1, 2, 3, 4, 2, 3, 2, 1]\n",
    "count_of_2 = lst.count(2)\n",
    "print(count_of_2)"
   ]
  },
  {
   "cell_type": "code",
   "execution_count": 209,
   "id": "be8bfae2",
   "metadata": {},
   "outputs": [
    {
     "name": "stdout",
     "output_type": "stream",
     "text": [
      "The items in the list [17, 100, 61, 78] has been replaced with the mean of the list: [64.0, 64.0, 64.0, 64.0]\n"
     ]
    }
   ],
   "source": [
    "# Replace all values in a list with the mean of the list.\n",
    "import numpy\n",
    "list_of_mean = [numpy.mean(integers) for x in integers]\n",
    "# I have been using this list comprehesion without actaully explaining how it works. So down here i will write the code in the normal way for easy grasp with the list comprehension approach\n",
    "\"\"\"\n",
    "total = sum(integers)\n",
    "count = len(integers)\n",
    "mean = total / count\n",
    "list_of_mean = []\n",
    "for _ in integers:\n",
    "    list_of_mean.append(mean)\n",
    "    \"\"\"\n",
    "print(f\"The items in the list {integers} has been replaced with the mean of the list: {list_of_mean}\")"
   ]
  },
  {
   "cell_type": "code",
   "execution_count": 210,
   "id": "0d4c64bc",
   "metadata": {},
   "outputs": [
    {
     "name": "stdout",
     "output_type": "stream",
     "text": [
      "The index of the max and the min element in the list is 1 and 0 respectively\n"
     ]
    }
   ],
   "source": [
    "\n",
    "# Find the indeces of the maximum and minimum values in a list\n",
    "max_element_in_list = max(integers)\n",
    "min_element_in_list = min(integers)\n",
    "print(f\"The index of the max and the min element in the list is {integers.index(max_element_in_list)} and {integers.index(min_element_in_list)} respectively\")"
   ]
  },
  {
   "cell_type": "code",
   "execution_count": 211,
   "id": "f1fd477d",
   "metadata": {},
   "outputs": [
    {
     "name": "stdout",
     "output_type": "stream",
     "text": [
      "Items and thier count {1: 2, 2: 2, 3: 1, 4: 2, 5: 1, 6: 1}\n",
      "Unique values: [1, 2, 3, 4]\n",
      "Counts: {1: 2, 2: 3, 3: 2, 4: 1}\n"
     ]
    }
   ],
   "source": [
    "# Find the unique values and their counts in a list.\n",
    "my_list = [1, 2, 3, 2, 4, 1, 5, 4, 6]\n",
    "# method 1\n",
    "freq = {}\n",
    "for x in my_list:\n",
    "    freq[x] = freq.get(x, 0) + 1\n",
    "print(f\"Items and thier count {freq}\")\n",
    "# method 2\n",
    "# here is used a set to rmove dupllicates, then count using dictionary comprehension\n",
    "unique_values = list(set(lst))\n",
    "counts = {x: lst.count(x) for x in unique_values}\n",
    "print(\"Unique values:\", unique_values)\n",
    "print(\"Counts:\", counts)"
   ]
  },
  {
   "cell_type": "code",
   "execution_count": null,
   "id": "e4f97b82",
   "metadata": {},
   "outputs": [],
   "source": []
  }
 ],
 "metadata": {
  "kernelspec": {
   "display_name": "Python 3",
   "language": "python",
   "name": "python3"
  },
  "language_info": {
   "codemirror_mode": {
    "name": "ipython",
    "version": 3
   },
   "file_extension": ".py",
   "mimetype": "text/x-python",
   "name": "python",
   "nbconvert_exporter": "python",
   "pygments_lexer": "ipython3",
   "version": "3.12.0"
  }
 },
 "nbformat": 4,
 "nbformat_minor": 5
}
