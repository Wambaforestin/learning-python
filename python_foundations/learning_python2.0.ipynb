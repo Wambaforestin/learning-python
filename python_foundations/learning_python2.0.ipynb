{
 "cells": [
  {
   "cell_type": "markdown",
   "id": "11782e2d",
   "metadata": {},
   "source": [
    "# Programme pratique - Python"
   ]
  },
  {
   "cell_type": "markdown",
   "id": "df3945bd",
   "metadata": {},
   "source": [
    "### Programme basic"
   ]
  },
  {
   "cell_type": "code",
   "execution_count": 32,
   "id": "05fab999",
   "metadata": {},
   "outputs": [
    {
     "name": "stdout",
     "output_type": "stream",
     "text": [
      "The area of the triangle is  84.00 meters sqaured\n"
     ]
    }
   ],
   "source": [
    "# Write a Python program to calculate the area of a rectangle given its length and width\n",
    "length = 14\n",
    "width = 6\n",
    "print(f\"The area of the triangle is {length*width: .2f} meters sqaured\")"
   ]
  },
  {
   "cell_type": "code",
   "execution_count": 33,
   "id": "a927ec92",
   "metadata": {},
   "outputs": [
    {
     "name": "stdout",
     "output_type": "stream",
     "text": [
      "Greetings Nicolas, learning python is like giving your life to Christ even at 18. Good luck in your jounney!\n"
     ]
    }
   ],
   "source": [
    "# Create a program that takes a user's name and age as input and prints a greeting message\n",
    "user_name = str(input(\"Enter your name : \"))\n",
    "user_age = int(input(\"Enter your age :\"))\n",
    "\n",
    "print(f\"Greetings {user_name}, learning python is like giving your life to Christ even at {user_age}. Good luck in your jounney!\")"
   ]
  },
  {
   "cell_type": "code",
   "execution_count": 34,
   "id": "5e5b0f36",
   "metadata": {},
   "outputs": [
    {
     "name": "stdout",
     "output_type": "stream",
     "text": [
      "64 is even\n"
     ]
    }
   ],
   "source": [
    "# Write a program to check if a number is even or odd\n",
    "import random\n",
    "\n",
    "num = random.randint(0, 70)\n",
    "\n",
    "print(f\"{num} is even\") if num%2 == 0 else print(f\"{num} is odd\")"
   ]
  },
  {
   "cell_type": "code",
   "execution_count": 42,
   "id": "cea71c99",
   "metadata": {},
   "outputs": [
    {
     "name": "stdout",
     "output_type": "stream",
     "text": [
      "The maximum and minimum values are 78 and -100 respectively\n",
      "The maximum and minimum values are 78 and -100 respectively\n",
      "The maximum and minimum values are -1 and -100 respectively\n"
     ]
    }
   ],
   "source": [
    "# Given a list of numbers, find the maximum and minimum values\n",
    "numbers = [-1, 55, 4, 5, 78, 63, -15, 20, -39, -100]\n",
    "\n",
    "# method 1\n",
    "print(f\"The maximum and minimum values are {max(numbers)} and {min(numbers)} respectively\")\n",
    "\n",
    "# method 2\n",
    "bigger = numbers[0]\n",
    "smaller = numbers[0]\n",
    "for num in numbers:\n",
    "    if num > bigger:\n",
    "        bigger = num\n",
    "    if num < smaller:\n",
    "        smaller = num\n",
    "print(f\"The maximum and minimum values are {bigger} and {smaller} respectively\")\n",
    "\n",
    "# method 3\n",
    "sorted_numbers = sorted(numbers)\n",
    "print(f\"The maximum and minimum values are {numbers[0]} and {numbers[-1]} respectively\")\n"
   ]
  },
  {
   "cell_type": "code",
   "execution_count": null,
   "id": "9e3605ba",
   "metadata": {},
   "outputs": [
    {
     "name": "stdout",
     "output_type": "stream",
     "text": [
      "radar is a palindrome\n",
      "notamment isn't a palindrome\n"
     ]
    }
   ],
   "source": [
    "# Create a Python function to check if a given string is a palindrome\n",
    "def is_palindrome(word : str) -> bool:\n",
    "    return word == word[::-1]\n",
    "\n",
    "word_one = \"radar\"\n",
    "word_two = \"notamment\"\n",
    "\n",
    "print(f\"{word_one} is a palindrome\") if is_palindrome(word_one) else print(f\"{word_one} isn't a palindrome\")\n",
    "print(f\"{word_two} is a palindrome\") if is_palindrome(word_two) else print(f\"{word_two} isn't a palindrome\")"
   ]
  },
  {
   "cell_type": "code",
   "execution_count": 4,
   "id": "0fce815c",
   "metadata": {},
   "outputs": [
    {
     "name": "stdout",
     "output_type": "stream",
     "text": [
      "The sum is all positive integer is : 256\n",
      "The sum is all positive integer is : 256\n"
     ]
    }
   ],
   "source": [
    "# Given a list of integers, find the sum of all positive numbers\n",
    "integers = [17, 100, -8, 61, -47, 78]\n",
    "# method 1\n",
    "def remove_negative(integers: list) -> list:\n",
    "    for a in integers:\n",
    "        if a < 0:\n",
    "            integers.remove(a)\n",
    "    return integers\n",
    "\n",
    "print(f\"The sum is all positive integer is : {sum(remove_negative(integers=integers))}\")\n",
    "\n",
    "# method 2\n",
    "positive_integers = []\n",
    "for a in integers:\n",
    "    if a > 0:\n",
    "        positive_integers.append(a)\n",
    "print(f\"The sum is all positive integer is : {sum(positive_integers)}\")"
   ]
  },
  {
   "cell_type": "code",
   "execution_count": 11,
   "id": "b185dd74",
   "metadata": {},
   "outputs": [
    {
     "name": "stdout",
     "output_type": "stream",
     "text": [
      "The number of words in 'Do you want me to show you a version where try/except is genuinely useful (like if the user enters numbers instead of a sentence)?'is 24\n",
      "The number of words in 'Do you want me to show you a version where try/except is genuinely useful (like if the user enters numbers instead of a sentence)?'is 24\n"
     ]
    }
   ],
   "source": [
    "# Create a program that takes a sentence as input and counts the number of words in it\n",
    "import string\n",
    "# method 1\n",
    "def remove_punctuation(sent:str) -> list:\n",
    "    for var in sent.lower().split():\n",
    "        for var2 in string.punctuation:\n",
    "            if var == var2:\n",
    "                sent.split().remove(var)\n",
    "    return sent.split()\n",
    "# method 2\n",
    "def remove_punctuation_new(sent: str) -> list:\n",
    "    return \"\".join([ch for ch in sent.lower() if ch not in string.punctuation]).split()\n",
    "\n",
    "sentence = str(input(\"Enter a sentence and i will give you the number of words it contains : \"))\n",
    "\n",
    "print(f\"The number of words in '{sentence}'is {len(remove_punctuation(sentence))}\")\n",
    "print(f\"The number of words in '{sentence}'is {len(remove_punctuation_new(sentence))}\")"
   ]
  },
  {
   "cell_type": "code",
   "execution_count": 14,
   "id": "a8083499",
   "metadata": {},
   "outputs": [
    {
     "name": "stdout",
     "output_type": "stream",
     "text": [
      "The average and the sum are  64.00 and 256 respectively\n",
      "The average and the sum are 64 and 256 respectively\n",
      "The average and the sum are 64.0 and 256 respectively\n"
     ]
    }
   ],
   "source": [
    "# Given a list of numbers, find the sum and average\n",
    "import statistics\n",
    "import numpy\n",
    "\n",
    "# method 1\n",
    "print(f\"The average and the sum are {sum(integers)/len(integers): .2f} and {sum(integers)} respectively\")\n",
    "\n",
    "# method 2\n",
    "print(f\"The average and the sum are {statistics.mean(integers)} and {sum(integers)} respectively\")\n",
    "\n",
    "# method 3\n",
    "print(f\"The average and the sum are {numpy.mean(integers)} and {sum(integers)} respectively\")\n"
   ]
  },
  {
   "cell_type": "code",
   "execution_count": 29,
   "id": "679d7494",
   "metadata": {},
   "outputs": [
    {
     "name": "stdout",
     "output_type": "stream",
     "text": [
      "Ouput: Sarah Florian Hugo Bastien Simone Ilyas Tom Amanda\n"
     ]
    }
   ],
   "source": [
    "# Given a list of names, concatenate them into a single string separated by spaces\n",
    "names = [\"Sarah\", \"Florian\", \"Hugo\", \"Bastien\", \"Simone\", \"Ilyas\", \"Tom\", \"Amanda\"]\n",
    "new_name = \" \".join(names)\n",
    "print(f\"Ouput: {new_name}\")"
   ]
  },
  {
   "cell_type": "code",
   "execution_count": 26,
   "id": "9c60e55a",
   "metadata": {},
   "outputs": [
    {
     "name": "stdout",
     "output_type": "stream",
     "text": [
      "True\n",
      "True\n",
      "False\n"
     ]
    }
   ],
   "source": [
    "# Write a Python program to check if a given string is a pangram (contains all letters of the alphabet)\n",
    "import string\n",
    "letters = list(string.ascii_lowercase)\n",
    "\n",
    "pangram1 = \"The quick brown fox jumps over the lazy dog\"\n",
    "pangram2 = \"Pack my box with five dozen liquor jugs\"\n",
    "not_pangram = \"Hello world\"\n",
    "\n",
    "def check_pangram(sent: str) -> bool:\n",
    "    cleaned = [ch.lower() for ch in sent if ch.isalpha()]\n",
    "    unique_letters = sorted(list(set(cleaned)))\n",
    "    # compare with full alphabet\n",
    "    return unique_letters == letters\n",
    "\n",
    "print(check_pangram(pangram1))      \n",
    "print(check_pangram(pangram2))      \n",
    "print(check_pangram(not_pangram))   "
   ]
  },
  {
   "cell_type": "code",
   "execution_count": null,
   "id": "75cf1c05",
   "metadata": {},
   "outputs": [
    {
     "name": "stdout",
     "output_type": "stream",
     "text": [
      "The word hello has 2 vowels\n"
     ]
    }
   ],
   "source": [
    "#  Create a function to count the number of vowels in a given string\n",
    "import string\n",
    "\n",
    "vowels = [\"a\", \"e\", \"i\", \"o\", \"u\"]\n",
    "\n",
    "word = input(\"Enter a word of your choice :\")\n",
    "cleaned = list(set(word.strip())) # assuming here that we don't want to count duplicated vowels \n",
    "# otherwise use cleaned = word.strip().split()\n",
    "\n",
    "count = 0\n",
    "for ch in vowels:\n",
    "    for ch1  in cleaned:\n",
    "        if ch == ch1:\n",
    "            count+=1\n",
    "# method 2 : count = sum(1 for ch in cleaned if ch in vowels)\n",
    "\n",
    "print(f\"The word {word} has {count} vowels\")"
   ]
  },
  {
   "cell_type": "code",
   "execution_count": null,
   "id": "3d25d102",
   "metadata": {},
   "outputs": [
    {
     "name": "stdout",
     "output_type": "stream",
     "text": [
      "None\n",
      "None\n",
      "None\n",
      "None\n",
      "None\n",
      "None\n",
      "None\n",
      "Amanda\n"
     ]
    }
   ],
   "source": [
    "# Given a list of names, print all names starting with the letter 'A'\n",
    "for name in names:\n",
    "    print(f\"{name}\") if name[0] == \"A\" else print(None)"
   ]
  },
  {
   "cell_type": "code",
   "execution_count": null,
   "id": "e66609f1",
   "metadata": {},
   "outputs": [
    {
     "name": "stdout",
     "output_type": "stream",
     "text": [
      "1 x 10 = 10\n",
      "2 x 10 = 20\n",
      "3 x 10 = 30\n",
      "4 x 10 = 40\n",
      "5 x 10 = 50\n",
      "6 x 10 = 60\n",
      "7 x 10 = 70\n",
      "8 x 10 = 80\n",
      "9 x 10 = 90\n",
      "10 x 10 = 100\n"
     ]
    }
   ],
   "source": [
    "#  Implement a program that prints the multiplication table of a given number\n",
    "num = int(input(\"Enter a number and i will give you its mutiplication table: \"))\n",
    "\n",
    "# method 1\n",
    "multiplyer = 1\n",
    "while 1: # this statement is always true\n",
    "    print(f\"{multiplyer} x {num} = {multiplyer * num}\")\n",
    "    multiplyer+=1\n",
    "    if multiplyer == 11:\n",
    "        break\n",
    "    \n",
    "# method 2\n",
    "for multiplier in range(1, 11):   # 1 to 10\n",
    "    print(f\"{multiplier} x {num} = {multiplier * num}\")"
   ]
  },
  {
   "cell_type": "code",
   "execution_count": 137,
   "id": "65e67f9a",
   "metadata": {},
   "outputs": [
    {
     "name": "stdout",
     "output_type": "stream",
     "text": [
      "The list of word ['lion', 'tiger', 'bear']\n",
      "{'lion': 4, 'tiger': 5, 'bear': 4}\n",
      "Output: 0\n",
      "Words with more than five characters: []\n"
     ]
    }
   ],
   "source": [
    "# Given a list of words, count the number of words with more than five characters\n",
    "print(f\"The list of word {names}\")\n",
    "# method 1\n",
    "counter = 0\n",
    "my_dict = {}\n",
    "for c in names:\n",
    "    my_dict[c] = len(c)\n",
    "print(my_dict)\n",
    "for value in my_dict.values():\n",
    "    if value > 5:\n",
    "        counter+=1\n",
    "print(f\"Output: {counter}\")\n",
    "\n",
    "# method 2\n",
    "def count_number_of_words(word):\n",
    "    if len(word) > 5:\n",
    "        return word\n",
    "    else:\n",
    "        return None \n",
    "\n",
    "words_with_more_than_five_chars = list(filter(None, map(count_number_of_words, names))) #filtering out the None value\n",
    "print(f\"Words with more than five characters: {words_with_more_than_five_chars}\")"
   ]
  },
  {
   "cell_type": "code",
   "execution_count": null,
   "id": "faa028c0",
   "metadata": {},
   "outputs": [
    {
     "name": "stdout",
     "output_type": "stream",
     "text": [
      "The total is: 18\n",
      "The total is: 18\n"
     ]
    }
   ],
   "source": [
    "# Calculate the sum of digits of a given number\n",
    "number = 459\n",
    "# method 1\n",
    "total = 0\n",
    "for digit in str(number): # Type casting\n",
    "    total = total + int(digit)  # type casting\n",
    "print(f\"The total is: {total}\")\n",
    "\n",
    "del sum # I did this because i used the sum() method as a variable, as a result overwriting Python's built-in function.\n",
    "# To corret my mistake i changed from sum to totlal, a seen on line 4.\n",
    "\n",
    "# method 2\n",
    "total = sum(int(digit) for digit in str(number))\n",
    "print(f\"The total is: {total}\")"
   ]
  },
  {
   "cell_type": "code",
   "execution_count": null,
   "id": "882879ea",
   "metadata": {},
   "outputs": [
    {
     "name": "stdout",
     "output_type": "stream",
     "text": [
      "The two list: ['lion', 'tiger', 'bear'] and ['apple', 'banana', 'cherry', 'dog', 'elephant', 'frog', 'grape', 'house', 'island', 'jungle']\n",
      "apple banana bear cherry dog elephant frog grape house island jungle lion tiger\n"
     ]
    }
   ],
   "source": [
    "# Given a list of words, concatenate them into a single string separated by spaces\n",
    "my_list = [\"apple\",\"banana\",\"cherry\",\"dog\",\"elephant\",\"frog\",\"grape\",\"house\",\"island\",\"jungle\"]\n",
    "names = ['lion', 'tiger', 'bear']\n",
    "print(f\"The two list: {names} and {my_list}\")\n",
    "\n",
    "# method 1\n",
    "def single_string(list1: list, list2: list) -> str:\n",
    "    \"\"\"_summary_\n",
    "\n",
    "    Args:\n",
    "        list1 (list): first list\n",
    "        list2 (list): second list\n",
    "\n",
    "    Returns:\n",
    "        str: output single string\n",
    "    \"\"\"\n",
    "    merged = list1 + list2\n",
    "    return \" \".join(sorted(merged))\n",
    "\n",
    "print(single_string(my_list, names))"
   ]
  },
  {
   "cell_type": "code",
   "execution_count": null,
   "id": "b96c573e",
   "metadata": {},
   "outputs": [
    {
     "name": "stdout",
     "output_type": "stream",
     "text": [
      "charte\n",
      "The final word without duplicates is: charte\n"
     ]
    }
   ],
   "source": [
    "# Write a function to remove all duplicate characters from a given string\n",
    "word = \"character\"\n",
    "list_word = list(word)\n",
    "# method 1\n",
    "result = \"\".join(dict.fromkeys(word))\n",
    "print(result)\n",
    "\n",
    "# method 2\n",
    "result2 = \"\"\n",
    "for element in word:\n",
    "    if element not in result2:  # only add once here\n",
    "        result2 += element\n",
    "\n",
    "print(f\"The final word without duplicates is: {result2}\")"
   ]
  },
  {
   "cell_type": "code",
   "execution_count": null,
   "id": "bd98a96b",
   "metadata": {},
   "outputs": [],
   "source": [
    "# Create a function that takes a list of strings and returns the list sorted by the length of the strings"
   ]
  }
 ],
 "metadata": {
  "kernelspec": {
   "display_name": "Python 3",
   "language": "python",
   "name": "python3"
  },
  "language_info": {
   "codemirror_mode": {
    "name": "ipython",
    "version": 3
   },
   "file_extension": ".py",
   "mimetype": "text/x-python",
   "name": "python",
   "nbconvert_exporter": "python",
   "pygments_lexer": "ipython3",
   "version": "3.12.0"
  }
 },
 "nbformat": 4,
 "nbformat_minor": 5
}
