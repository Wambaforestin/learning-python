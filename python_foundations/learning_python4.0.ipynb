{
 "cells": [
  {
   "cell_type": "markdown",
   "id": "a65d5344",
   "metadata": {},
   "source": [
    "## Décorateurs, Générateurs, Iterateurs, Async/Await en Python et plus encore !"
   ]
  },
  {
   "cell_type": "markdown",
   "id": "de56bdd2",
   "metadata": {},
   "source": [
    "## Décorateurs (@)\n",
    "\n",
    "> Analogie : C'est comme amballer un cadeau (votre fonction originale) reste le meme, mais vous lui ajoutez du papier cadeau et un ruban (la nouvelle fonctionnalité)"
   ]
  },
  {
   "cell_type": "code",
   "execution_count": 1,
   "id": "dec6de39",
   "metadata": {},
   "outputs": [
    {
     "name": "stdout",
     "output_type": "stream",
     "text": [
      "Tache 'Nettoyage de données terminée !\n",
      "longue_operation a pris 2.001107692718506 secondes pour s'exécuter.\n"
     ]
    }
   ],
   "source": [
    "# Imaginons nous voulions mesurer le temps d\"exécution d'une fonction.\n",
    "\n",
    "import time\n",
    "\n",
    "def timer_decorateur(func):\n",
    "    # La fonction \"wrapper\" enveloppe la fonction originale\n",
    "    def wrapper(*args, **kwargs):\n",
    "        start_time = time.time()\n",
    "        result = func(*args, **kwargs) # on exécute la fonction originale\n",
    "        end_time = time.time()\n",
    "        print(f\"{func.__name__} a pris {end_time - start_time} secondes pour s'exécuter.\")\n",
    "        return result\n",
    "    return wrapper\n",
    "\n",
    "@timer_decorateur\n",
    "def longue_operation(nom_tache):\n",
    "    time.sleep(2)\n",
    "    print(f\"Tache '{nom_tache} terminée !\")\n",
    "    \n",
    "# on appelle simplement la fonction, le décorateur est déjà appliqué !\n",
    "longue_operation(\"Nettoyage de données\")\n",
    "    "
   ]
  }
 ],
 "metadata": {
  "kernelspec": {
   "display_name": "Python 3",
   "language": "python",
   "name": "python3"
  },
  "language_info": {
   "codemirror_mode": {
    "name": "ipython",
    "version": 3
   },
   "file_extension": ".py",
   "mimetype": "text/x-python",
   "name": "python",
   "nbconvert_exporter": "python",
   "pygments_lexer": "ipython3",
   "version": "3.12.0"
  }
 },
 "nbformat": 4,
 "nbformat_minor": 5
}
